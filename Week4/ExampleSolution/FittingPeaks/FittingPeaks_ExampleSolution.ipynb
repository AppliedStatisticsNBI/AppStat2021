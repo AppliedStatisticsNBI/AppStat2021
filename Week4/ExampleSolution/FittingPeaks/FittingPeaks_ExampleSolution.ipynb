{
 "cells": [
  {
   "cell_type": "markdown",
   "metadata": {},
   "source": [
    "# Fitting is an Art!\n",
    "\n",
    "## Description\n",
    "Python macro for fitting (possible) peaks (typically signal) on top of a distribution (typically background). It is an exercise in setting confidence intervals and limits (here on a possible signal). It is also an exercise in making ChiSquare (and likelihood fits) work, and get a feel for which fitting proceedure is likely to give good results.\n",
    "\n",
    "This program contains most the necessary code for fitting with a ChiSquare. The case has been chosen carefully, and should illustrate several points. Please, _play around_ with it as much as you can.\n",
    "\n",
    "\n",
    "## Your Task\n",
    "\n",
    "The below are indicative questions, and you should end by being able to estimate the significance of your signal, and set limits on the signal size, when you don't see a significant signal.\n",
    "\n",
    "\n",
    "### Authors\n",
    "- Troels Petersen ([email](mailto:petersen@nbi.dk))\n",
    "\n",
    "### Date\n",
    "10th of December 2021 (latest version)\n",
    "\n",
    "---"
   ]
  },
  {
   "cell_type": "code",
   "execution_count": 18,
   "metadata": {},
   "outputs": [],
   "source": [
    "import numpy as np\n",
    "import matplotlib.pyplot as plt\n",
    "from iminuit import Minuit\n",
    "from scipy import stats\n",
    "import os, sys                                         # Modules to see files and folders in directories\n",
    "from os.path import dirname as parent_folder\n",
    "# plt.close('all')"
   ]
  },
  {
   "cell_type": "code",
   "execution_count": 19,
   "metadata": {},
   "outputs": [],
   "source": [
    "sys.path.append('../../../External_Functions')\n",
    "from ExternalFunctions import Chi2Regression, BinnedLH, UnbinnedLH\n",
    "from ExternalFunctions import nice_string_output, add_text_to_ax    # Useful functions to print fit results on figure"
   ]
  },
  {
   "cell_type": "markdown",
   "metadata": {},
   "source": [
    "Ignore LogWarning (Python may complain, if it takes the log of too small numbers, e.g. log-likelihood):"
   ]
  },
  {
   "cell_type": "code",
   "execution_count": 20,
   "metadata": {},
   "outputs": [],
   "source": [
    "import warnings\n",
    "warnings.filterwarnings(\"ignore\")"
   ]
  },
  {
   "cell_type": "code",
   "execution_count": 21,
   "metadata": {},
   "outputs": [],
   "source": [
    "r = np.random             # Random generator\n",
    "r.seed(38)                # Set a random (but fixed) seed"
   ]
  },
  {
   "cell_type": "code",
   "execution_count": 22,
   "metadata": {},
   "outputs": [],
   "source": [
    "Verbose = False\n",
    "Saveplots = False\n",
    "plt.rcParams.update({'font.size': 18})\n",
    "font_size = 10"
   ]
  },
  {
   "cell_type": "markdown",
   "metadata": {},
   "source": [
    "### Main setting - looking for peaks or not that are there or not!\n",
    "\n",
    "These are switches to decide, if signal should be included in the data, and also fitted for:"
   ]
  },
  {
   "cell_type": "code",
   "execution_count": 23,
   "metadata": {},
   "outputs": [],
   "source": [
    "IncludeSignalInData = False\n",
    "IncludeSignalInFit = False"
   ]
  },
  {
   "cell_type": "markdown",
   "metadata": {},
   "source": [
    "One may want to assert, that one is not fitting for a signal, that is not there! However, in reality this is often what we actually do, to assert what the largest deviation from background is. This type of \"bump hunting\" can be challeging, and very common in many sciences."
   ]
  },
  {
   "cell_type": "markdown",
   "metadata": {},
   "source": [
    "---\n",
    "## CASE: Possible Gaussian signal peak distribution on an exponential background:\n",
    " * $signal(x) = \\frac{N_{sig}}{\\sigma \\sqrt{2\\pi}} \\cdot \\exp{\\left [-0.5 \\cdot (\\frac{x-\\mu}{\\sigma})^{2}\\right]}$ for $x$ in [0,200]\n",
    " \n",
    " * $bkg(x) = N_{bkg} \\cdot  c \\cdot \\exp{[-cx]}$                   for $x$ in [0,200]\n",
    "---"
   ]
  },
  {
   "cell_type": "code",
   "execution_count": 24,
   "metadata": {},
   "outputs": [],
   "source": [
    "# Produce signal (Gaussian peak):\n",
    "Nsigx  = 50\n",
    "mux    = 125.0\n",
    "mux_init = mux                     # Initial value to use for the peak position in fit\n",
    "sigmax =   3.0\n",
    "\n",
    "# For signal peak of unknown position:\n",
    "# mux    = r.uniform(10.0, 190.0)\n",
    "# print(\"Real peak position: \", mux)\n",
    "\n",
    "if IncludeSignalInData:\n",
    "    x_signal = r.normal(mux, sigmax, Nsigx)\n",
    "    if (Verbose) :\n",
    "        print(\"  Signal: \", x_signal)\n",
    "else:\n",
    "    x_signal = []"
   ]
  },
  {
   "cell_type": "code",
   "execution_count": 25,
   "metadata": {},
   "outputs": [],
   "source": [
    "# Produce background (here exponential):\n",
    "Nbkgx =  25000\n",
    "taux  =   80.0    # \"Lifetime\" of background\n",
    "x_background = r.exponential(taux, Nbkgx)\n",
    "if (Verbose) :\n",
    "    print(\"  Background: \", x_background)"
   ]
  },
  {
   "cell_type": "code",
   "execution_count": 26,
   "metadata": {},
   "outputs": [],
   "source": [
    "# Histogram specifications:\n",
    "xmin =   0.0\n",
    "xmax = 200.0\n",
    "Nbins =  100       # Note that this gives the bins a natural width, and is much smaller than sigma of the signal!\n",
    "binwidth = (xmax-xmin) / Nbins"
   ]
  },
  {
   "cell_type": "code",
   "execution_count": 27,
   "metadata": {
    "lines_to_next_cell": 2
   },
   "outputs": [],
   "source": [
    "# Note: The x_signal and x_background needs to be in a parenthesis inside the other\n",
    "# parenthesis, because of the posibility of several other options.\n",
    "x_data = np.concatenate((x_signal, x_background))    # Combine the two numpy arrays\n",
    "if (Verbose) :\n",
    "    print(\"  Data: \", x_data)"
   ]
  },
  {
   "cell_type": "markdown",
   "metadata": {},
   "source": [
    "---\n",
    "Define PDFs:\n",
    "---"
   ]
  },
  {
   "cell_type": "code",
   "execution_count": 28,
   "metadata": {},
   "outputs": [],
   "source": [
    "# Normalized Gaussian:\n",
    "def gauss_pdf(x, mu, sigma):\n",
    "    return 1.0 / np.sqrt(2 * np.pi) / np.abs(sigma) * np.exp(-(x - mu)**2 / 2.0 / sigma**2)"
   ]
  },
  {
   "cell_type": "code",
   "execution_count": 29,
   "metadata": {},
   "outputs": [],
   "source": [
    "# Normalized Exponential:\n",
    "def exponential_pdf(x, tau):\n",
    "    return 1.0 / tau * np.exp(-x/tau)"
   ]
  },
  {
   "cell_type": "markdown",
   "metadata": {},
   "source": [
    "Next we write up the full model PDF for a ChiSquare [CS] fit. You can also put one for Binned/Unbinned Likelihood [BL/UL]. They are identical, except for the normalisation, where the ChiSquare includes the bin width.\n",
    "\n",
    "We make two versions, one which is a background fit only, and the other which includes the signal PDF in the fit function."
   ]
  },
  {
   "cell_type": "code",
   "execution_count": 30,
   "metadata": {},
   "outputs": [],
   "source": [
    "if IncludeSignalInFit:\n",
    "    def PDFmodel_CS(x, Nsig, mu, sigma, Nbkg, tau) :\n",
    "        return Nbkg * binwidth * exponential_pdf(x, tau) + Nsig * binwidth * gauss_pdf(x, mu, sigma)\n",
    "        #solution:\n",
    "    def PDFmodel_BL(x, Nsig, mu, sigma, Nbkg, tau) :\n",
    "        return Nbkg * exponential_pdf(x, tau) + Nsig * gauss_pdf(x, mu, sigma)\n",
    "    \n",
    "    def PDFmodel_UL(x, Nsig, mu, sigma, Nbkg, tau) :\n",
    "        return Nbkg * exponential_pdf(x, tau) + Nsig * gauss_pdf(x, mu, sigma)\n",
    "    \n",
    "else:\n",
    "    def PDFmodel_CS(x, Nbkg, tau) :\n",
    "        return Nbkg * binwidth * exponential_pdf(x, tau) \n",
    "        #solution:\n",
    "    def PDFmodel_BL(x, Nbkg, tau) :\n",
    "        return Nbkg * exponential_pdf(x, tau)\n",
    "    \n",
    "    def PDFmodel_UL(x, Nbkg, tau) :\n",
    "        return Nbkg * exponential_pdf(x, tau) \n",
    "    "
   ]
  },
  {
   "cell_type": "markdown",
   "metadata": {},
   "source": [
    "---\n",
    "Plot the data:\n",
    "---\n",
    "\n",
    "The data from the histogram is here plotted with error bars:"
   ]
  },
  {
   "cell_type": "code",
   "execution_count": 31,
   "metadata": {},
   "outputs": [
    {
     "data": {
      "image/png": "[encoded data removed]",
      "text/plain": [
       "<Figure size 1080x576 with 1 Axes>"
      ]
     },
     "metadata": {
      "needs_background": "light"
     },
     "output_type": "display_data"
    }
   ],
   "source": [
    "fig, ax = plt.subplots(figsize=(15, 8))\n",
    "# For a normal histogram (without error bars) one would use:\n",
    "# hist_data = ax.hist(x_data, bins=Nbins, range=(xmin, xmax), histtype='step', linewidth=2, label='Data', color='blue')\n",
    "y, bin_edges = np.histogram(x_data, bins=Nbins, range=(xmin, xmax), normed=False)\n",
    "x = 0.5*(bin_edges[1:] + bin_edges[:-1])\n",
    "sy = np.sqrt(y)      # This is the standard for histograms - each bin is Poisson distributed!\n",
    "hist_data = ax.errorbar(x, y, sy, fmt='.', linewidth=2, label=\"Data\")\n",
    "ax.set(xlabel=\"Photon invariant mass [GeV]\", ylabel = \"Frequency / {0:1.0f} GeV\".format(binwidth),\n",
    "       title = \"Distribution of diphoton invariant masses\", xlim=(xmin, xmax))\n",
    "fig;"
   ]
  },
  {
   "cell_type": "markdown",
   "metadata": {},
   "source": [
    "---\n",
    "Fit the data:\n",
    "---"
   ]
  },
  {
   "cell_type": "markdown",
   "metadata": {},
   "source": [
    "NOTE: For the starting values for the fit, we could just use the values that the data was generated with!\n",
    "That would of course be a great advantage. However, one of the main challenges in general fitting is to find these good starting values, which is why (really) poor ones are provided to begin with."
   ]
  },
  {
   "cell_type": "markdown",
   "metadata": {},
   "source": [
    "## $\\chi^{2}$, binned Likelihood, or unbinned likelihood fit:\n",
    "Do the fit with a Chi2 minimisation (only using bins with entries):"
   ]
  },
  {
   "cell_type": "code",
   "execution_count": 32,
   "metadata": {},
   "outputs": [],
   "source": [
    "#solution:uncomment the desired type of fit\n",
    "type_of_fit='unbinned_LH' #set to 'chi2reg' or 'binned_LH' or 'unbinned_LH'\n",
    "if type_of_fit=='chi2reg':\n",
    "    fit_object = Chi2Regression(PDFmodel_CS, x[y>0], y[y>0], sy[y>0])\n",
    "elif type_of_fit=='binned_LH':\n",
    "    fit_object = BinnedLH(PDFmodel_BL, x_data, bins=Nbins, bound=(xmin, xmax), extended=True)\n",
    "elif type_of_fit=='unbinned_LH':\n",
    "    fit_object = UnbinnedLH(PDFmodel_UL, x_data, extended=True)\n",
    "\n",
    "\n",
    "if IncludeSignalInFit:\n",
    "    minuit_obj = Minuit(fit_object, pedantic=False, print_level=0, Nsig=Nsigx, mu=mux_init, sigma=sigmax, Nbkg=Nbkgx, tau=taux)\n",
    "else:\n",
    "    minuit_obj = Minuit(fit_object, pedantic=False, print_level=0, Nbkg=Nbkgx, tau=taux)\n",
    "minuit_obj.migrad()                                                         # Perform the actual fit\n",
    "if (not minuit_obj.get_fmin().is_valid) :                                   # Check if the fit converged\n",
    "    print(\"  WARNING: The ChiSquare fit DID NOT converge!!!\")"
   ]
  },
  {
   "cell_type": "code",
   "execution_count": 33,
   "metadata": {},
   "outputs": [
    {
     "name": "stdout",
     "output_type": "stream",
     "text": [
      "Fit result: Nbkg = 25002.30178 +/- 158.12837\n",
      "Fit result: tau = 80.22125 +/- 0.50743\n"
     ]
    }
   ],
   "source": [
    "minuit_output = [minuit_obj.get_fmin(), minuit_obj.get_param_states()]       # Save the output parameters in case needed\n",
    "if IncludeSignalInFit:\n",
    "    csfit_Nsig, csfit_mu, csfit_sigma, csfit_Nbkg, csfit_tau = minuit_obj.args  # The fitted values of the parameters\n",
    "else:\n",
    "    csfit_Nbkg, csfit_tau = minuit_obj.args\n",
    "if type_of_fit=='chi2reg':\n",
    "    Chi2_value_cs = minuit_obj.fval                                             # The Chi2 value\n",
    "    NvarModel_cs = len(minuit_obj.args)\n",
    "    Ndof_cs = len(y[y>0]) - NvarModel_cs\n",
    "    ProbChi2_cs = stats.chi2.sf(Chi2_value_cs, Ndof_cs)\n",
    "else:\n",
    "    Chi2_value_cs = minuit_obj.fval # it's actually the likelihood!!\n",
    "    NvarModel_cs = np.nan\n",
    "    Ndof_cs = 0\n",
    "    ProbChi2_cs = np.nan\n",
    "    \n",
    "for name in minuit_obj.parameters:\n",
    "    print(\"Fit result: {0} = {1:.5f} +/- {2:.5f}\".format(name, minuit_obj.values[name], minuit_obj.errors[name]))"
   ]
  },
  {
   "cell_type": "markdown",
   "metadata": {},
   "source": [
    "Plotting the result on top of the previously plotted data:\n",
    "---"
   ]
  },
  {
   "cell_type": "code",
   "execution_count": 34,
   "metadata": {},
   "outputs": [
    {
     "data": {
      "image/png": "[encoded data removed]",
      "text/plain": [
       "<Figure size 1080x576 with 1 Axes>"
      ]
     },
     "execution_count": 34,
     "metadata": {},
     "output_type": "execute_result"
    }
   ],
   "source": [
    "x_csfit = np.linspace(xmin, xmax, 1000)      # Create the x-axis for the plot of the fitted function\n",
    "\n",
    "if IncludeSignalInFit:\n",
    "    y_csfit = PDFmodel_CS(x_csfit, csfit_Nsig, csfit_mu, csfit_sigma, csfit_Nbkg, csfit_tau)\n",
    "else:\n",
    "    y_csfit = PDFmodel_CS(x_csfit, csfit_Nbkg, csfit_tau)\n",
    "\n",
    "\n",
    "# Adding in some text (useful histogram and fit information) around the plot before showing it:\n",
    "if IncludeSignalInFit:\n",
    "    names = ['type of fit', 'Entries', 'Nsig', 'mu', 'sigma', 'Nbkg', 'tau', 'Chi2/ndf', 'Prob']\n",
    "    values = [type_of_fit,\n",
    "              \"{:d}\".format(len(x_data)),\n",
    "              \"{:.3f} +/- {:.3f}\".format(minuit_obj.values['Nsig'], minuit_obj.errors['Nsig']),\n",
    "              \"{:.3f} +/- {:.3f}\".format(minuit_obj.values['mu'], minuit_obj.errors['mu']),\n",
    "              \"{:.3f} +/- {:.3f}\".format(minuit_obj.values['sigma'], minuit_obj.errors['sigma']),\n",
    "              \"{:.3f} +/- {:.3f}\".format(minuit_obj.values['Nbkg'], minuit_obj.errors['Nbkg']),\n",
    "              \"{:.3f} +/- {:.3f}\".format(minuit_obj.values['tau'], minuit_obj.errors['tau']),\n",
    "              \"{:.3f} / {:d}\".format(Chi2_value_cs, Ndof_cs),\n",
    "              \"{:.3f}\".format(ProbChi2_cs),\n",
    "              ]\n",
    "else:\n",
    "    names = ['type of fit','Entries', 'Nbkg', 'tau', 'Chi2/ndf', 'Prob']\n",
    "    values = [type_of_fit,\n",
    "              \"{:d}\".format(len(x_data)),\n",
    "              \"{:.3f} +/- {:.3f}\".format(minuit_obj.values['Nbkg'], minuit_obj.errors['Nbkg']),\n",
    "              \"{:.3f} +/- {:.3f}\".format(minuit_obj.values['tau'], minuit_obj.errors['tau']),\n",
    "              \"{:.3f} / {:d}\".format(Chi2_value_cs, Ndof_cs),\n",
    "              \"{:.3f}\".format(ProbChi2_cs),\n",
    "              ]\n",
    "    \n",
    "d={}\n",
    "for n,v in zip(names,values):\n",
    "    d[n]=v\n",
    "    \n",
    "if type_of_fit=='chi2reg':\n",
    "        ax.plot(x_csfit, y_csfit, '-', color='red', linewidth=2, label='ChiSquare fit')\n",
    "        ax.text(0.15, 0.95, nice_string_output(d, 0), family='monospace',\n",
    "                transform=ax.transAxes, fontsize=font_size, color='red', verticalalignment='top') \n",
    "elif type_of_fit=='binned_LH':\n",
    "        ax.plot(x_csfit, y_csfit, '-', color='blue', linewidth=2, label='binned_LH fit')\n",
    "        ax.text(0.4, 0.95, nice_string_output(d, 0), family='monospace',\n",
    "                transform=ax.transAxes, fontsize=font_size, color='blue', verticalalignment='top') \n",
    "elif type_of_fit=='unbinned_LH':\n",
    "        ax.plot(x_csfit, y_csfit, '-', color='green', linewidth=2, label='unbinned_LH fit')\n",
    "        ax.text(0.75, 0.95, nice_string_output(d, 0), family='monospace',\n",
    "                transform=ax.transAxes, fontsize=font_size, color='green', verticalalignment='top') \n",
    "else:\n",
    "        type_of_fit='unknown type of fit'\n",
    "        ax.plot(x_csfit, y_csfit, '-', color='black', linewidth=2, label='unknown type of fit')\n",
    "        ax.text(0.4, 0.95, nice_string_output(d, 0), family='monospace',\n",
    "                transform=ax.transAxes, fontsize=font_size, color='black', verticalalignment='top') \n",
    "\n",
    "fig.tight_layout()\n",
    "ax.legend(loc='center right')\n",
    "fig"
   ]
  },
  {
   "cell_type": "code",
   "execution_count": 35,
   "metadata": {},
   "outputs": [],
   "source": [
    "if Saveplots:\n",
    "    fig.savefig(\"ExampleLikelihoodFit\", dpi=600)"
   ]
  },
  {
   "cell_type": "markdown",
   "metadata": {},
   "source": [
    "Questions:\n",
    "---\n",
    " 0. Given the data (first without signal), consider the ChiSquare fit that is provided, and see if it fits well.\n",
    "    Remember to give the fit good starting values. Alternatively, see if you can write a ChiSquare fit yourself to\n",
    "    match the data.\n",
    "\n",
    " _Example solution 0_:\n",
    " The code above provides solutions. As there is ample data, the ChiSquare fit is perfectly good.\n",
    "\n",
    "---\n",
    " \n",
    " 1. Run the program without a signal peak and reasonably high statistics (as done initially).\n",
    "    Is the fit good? Think about how you _quantify_ if the model is good,\n",
    "    and what the value/quantity that you base it on means.\n",
    "     \n",
    " _Example solution 1_:\n",
    " Given the high p-value of the ChiSquare fit, the model is representative of the data -- i.e. the H0 hypothesis holds. It is only the ChiSquare, that can actually test this.\n",
    "\n",
    "--- \n",
    " \n",
    " 2. Now lower the number of background events from 25000 to 250 and ask yourself the above\n",
    "    questions. Would you change the fitting type, if this was your data?\n",
    "    If you feel up for it, can you write an unbinned likelihood fit? Remember, that contrary to the\n",
    "    ChiSquare fit, this should not include the binwidth in the normalisation of the PDF. And if you\n",
    "    feel on top of things, then perhaps a binned one?\n",
    "\n",
    " _Example solution 2_:\n",
    " The models (i.e. PDFs) are still good, as this is the same data, just much lower statistics. In this case the ChiSquare does not provide a good fit, which is evident both from the low p-value and the clear underestimation of the background. Here, the likelihood fits are much better at estimating the background. \n",
    "\n",
    "---\n",
    "\n",
    " 3. Go back to 25000 background, and switch on a signal of 50 events (i.e. \"IncludeSignalInData\"). \n",
    "    How confident are you, that you can see the signal in the data? Probably not! Now make the signal more clear in \n",
    "    two ways:\n",
    "    1. Lower the number of background events.\n",
    "    2. Increase the number of signal events.\n",
    "    Do both (separately) until the point where you are certain, that you can see a peak by eye.\n",
    "    Now switch on the signal fit (i.e. \"IncludeSignalInFit\") and consider the significance (i.e.\n",
    "    the number of sigmas) of Nsig. Does the size of this correspond well with your observation?\n",
    "    At how many sigmas were you \"certain\"?\n",
    "\n",
    " _Example solution 3_:\n",
    " The significance is immediately read off the fit as $N_{sig} / \\sigma(N_{sig})$, i.e. how many standard deviations is the amplitude of the signal away from zero. As the ChiSquare is only approximately trustworthy, consider the unbinned likelihood, and calculate 51.8 / 9.6 = 5.4 sigma. Thus, the peak is in this case very certain, as it is greater than 5 sigma (called an \"observation\").\n",
    " \n",
    " To test the hypothesis that there is a signal, one could calculate the likelihood ratio between fitting with and without the gaussian. For the background only hypothesis (H0-null hypothesis) we get a likelihood value of $-2*log(LLH) = 88.52$, while for peak hypothesis (H1-alternative) we get $-2*log(LLH) = 50.16$. This yields a ratio of $D = -2 log(LLH_{H0} / LLH_{H1}) = 88.52 - 50.16 = 38.36$. There are 6-3=3 degrees of freedom between the two hypotheses (calculated from the number of parameters in the fits), which yields a p-value for the null hypothesis of Prob(38.36, 3) = $2.3 \\times 10^{-8}$. There is thus no chance in hell, that this was a random fluctuation of the background!\n",
    " \n",
    " Lowering the number of signal events to around 12-15, I start doubting that there is a peak, when just looking at the data (i.e. don't let you be (potentially mis-) guided by the fits). The significance is then 2-2.5 sigma, which one would probably expect some random peak to have in this sample -- i.e. it's just random noise.\n",
    "\n",
    "---\n",
    "\n",
    " 4. Given a \"clear signal\", try to give a 68% and a 95% confidence intervals on the signal parameters. This simply\n",
    "    amounts to taking +- 1 and 2 uncertainties of the parameter. Following this, try to set a 95% confidence _limit_\n",
    "    on a signal, that is not \"clear\" (e.g. where Nsig is not 2 sigma significant). This task is harder. Here, you\n",
    "    should ask yourself for the size of a signal, that you would be 95% sure of discovering, and setting this as the\n",
    "    limit. Don't worry, if you don't succeed on this.\n",
    "\n",
    "---    \n",
    " 5. Following the above cases, now try to switch off the inclusion of a signal in your fit, and see if\n",
    "    the \"background-only\" fit is OK despite having a \"certain\" peak in it! Do you still feel \"certain\"\n",
    "    about the peak?\n",
    "    \n",
    "    Note by how much the ChiSquare changes. Since you introduce three new parameters in the fit, when allowing for a\n",
    "    peak, your ChiSquare value should decrease, but does it decrease \"enough\". The rule of thumb is, that the decrease\n",
    "    in chisquare ($\\chi^2_{peak} - \\chi^2_{no peak}$ should be chisquare distributed with Ndof equal to the differene\n",
    "    in number of parameters (chisquare equivalent of Wilk's theorem).\n",
    "\n",
    "NOTE: It is the ratio of likelihood values from the fit, which are used in a hypothesis test to determine,\n",
    "which hypothesis (Null: \"Background only\", Alternative: \"Background and Signal\"), which is the most likely.\n",
    "This of course requires a likelihood fit, and is then based on Wilk's theorem.\n",
    "Normally, one can also simply consider the difference in Chi2 values, which in the limit of large statistics\n",
    "gives the same result (as suggested above).\n",
    "\n",
    "---\n",
    " 6. Try to set the number of signal events to 200 and background to 25000, but choose a random location\n",
    "    of the signal peak (mux) and set the initial value to say 125, i.e. pretending that you don't know, if or\n",
    "    where there is a peak. See if the fit can find the position of the signal peak and hence converge correctly.\n",
    "    Set the random seed to be empty (i.e. no number in the parenthesis), giving new random numbers every time,\n",
    "    and see how often the fit converges on the true peak. Is a good initial value essential?\n",
    "\n",
    " _Example solution 6_: The fits now all converges on a much smaller (i.e. less significant) peak around 125 instead of finding the \"correct\" peak (in my case around 76). This simply goes to show, that the fit is incapable of searching for peaks without assistance (from you!).\n",
    "\n",
    "---\n",
    "\n",
    " 7. Also try to remove the signal from data, and see if the fit (including signal) still \"finds\"\n",
    "    any peaks. This is the pitfall of searching for peaks, that may very well not be there!!!\n",
    "\n",
    " _Example solution 7_: The fits will now do \"anything\", as it is given enough degrees of freedom to fit for something, that isn't there! In my case, the ChiSquare finds a small peak next close to 125 GeV, the binned likelihood finds a larger - negative!- peak below 125 GeV, and the unbinned likelihood does not even converge. Conclusion: Searching for peaks that might not be there is hard!\n",
    "\n",
    "---\n",
    "\n",
    " 8. Given 500 background and 20 signal events, ask yourself what helps the most to discover\n",
    "    a signal peak:\n",
    "     - Removing half the background below the peak.\n",
    "     - Improving the resolution (sigma) by a factor two.\n",
    "     \n",
    "    Discuss first what you think (and why) with those around you, and then try it out with this fit.\n",
    "    \n",
    " _Example solution 8:_ The significance $K$ of a peak with $S$ signal events and $B$ background events under is roughly given by $K = S \\ \\sqrt{S+B}$. In this case, improving the signal resolution by a factor two (from 3.0 to 1.5) would yield the same number of signal events within half the range, and thus correspond to having half the number of background events. The two should therefore roughly have the same effect.\n",
    " \n",
    "---    \n",
    "\n",
    "\n",
    "Advanced questions:\n",
    "---\n",
    " 0. In general, how far can the initial parameter values stray from the true ones,\n",
    "    and still find the correct signal peak and hence true minimum of the Chi2/LLH?\n",
    "\n",
    "\n",
    " 1. Make a loop to repeat the fits many times, and see how the result of the\n",
    "    fit compares to the true values. Which fit is least biased? And does this depend\n",
    "    on the value of the input parameters?\n",
    "\n",
    "\n",
    " 2. The likelihood value does not in itself tell you much. But if repeated many times\n",
    "    (as above) it can be used to evaluate the fit at hand. Try to produce new data and\n",
    "    fit it 1000 times, and see the distribution of likelihood values obtained... and\n",
    "    then compare the \"original data LLH value\" with this distribution! From this, one\n",
    "    can actually obtain a probability for the LLH in the same way as for the ChiSquare.\n"
   ]
  },
  {
   "cell_type": "code",
   "execution_count": null,
   "metadata": {},
   "outputs": [],
   "source": []
  },
  {
   "cell_type": "code",
   "execution_count": null,
   "metadata": {},
   "outputs": [],
   "source": []
  }
 ],
 "metadata": {
  "executable": "/usr/bin/env python",
  "kernelspec": {
   "display_name": "Python 3",
   "language": "python",
   "name": "python3"
  },
  "language_info": {
   "codemirror_mode": {
    "name": "ipython",
    "version": 3
   },
   "file_extension": ".py",
   "mimetype": "text/x-python",
   "name": "python",
   "nbconvert_exporter": "python",
   "pygments_lexer": "ipython3",
   "version": "3.6.10"
  },
  "main_language": "python"
 },
 "nbformat": 4,
 "nbformat_minor": 2
}
