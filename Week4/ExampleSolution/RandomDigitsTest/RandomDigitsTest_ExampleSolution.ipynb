{
 "cells": [
  {
   "cell_type": "markdown",
   "metadata": {},
   "source": [
    "# Random Digits Exercise\n",
    "\n",
    "### Description:\n",
    "This is an exercise in hypothesis testing, specifically determining if a series of digits [0,9] is random or not. In order to determine this, one has to design and apply statistical tests, from which the degree of consistency of being random can be calculated.\n",
    "\n",
    "### Your task:\n",
    "Using tests of your choice/design, determine which of the seven data sets are consistent with being random, and which aren't. One is based on the digits you entered in the course questionaire, while the others range from poor/quasi random to truly random. See if you can determine your (human) dataset.\n",
    "\n",
    "###  Author: \n",
    " - Troels Petersen ([petersen@nbi.dk](mailto:petersen@nbi.dk))\n",
    "\n",
    "###  Date:\n",
    " - 7th of December 2021\n",
    "\n",
    "---"
   ]
  },
  {
   "cell_type": "code",
   "execution_count": 17,
   "metadata": {},
   "outputs": [],
   "source": [
    "import numpy as np\n",
    "import matplotlib as mpl\n",
    "import matplotlib.pyplot as plt\n",
    "from iminuit import Minuit\n",
    "from scipy import stats\n",
    "import os, sys                                         # Modules to see files and folders in directories\n",
    "from os.path import dirname as parent_folder"
   ]
  },
  {
   "cell_type": "code",
   "execution_count": 18,
   "metadata": {},
   "outputs": [],
   "source": [
    "sys.path.append('../../../External_Functions')\n",
    "from ExternalFunctions import Chi2Regression, BinnedLH, UnbinnedLH\n",
    "from ExternalFunctions import nice_string_output, add_text_to_ax    # Useful functions to print fit results on figure"
   ]
  },
  {
   "cell_type": "code",
   "execution_count": 19,
   "metadata": {
    "lines_to_next_cell": 2
   },
   "outputs": [],
   "source": [
    "# Set som plotting standards:\n",
    "font = {'family' : 'serif',\n",
    "        'weight' : 'normal',\n",
    "        'size'   : 18}\n",
    "mpl.rc('font', **font)"
   ]
  },
  {
   "cell_type": "markdown",
   "metadata": {},
   "source": [
    "---\n",
    "## Define your functions here:\n"
   ]
  },
  {
   "cell_type": "code",
   "execution_count": 20,
   "metadata": {
    "lines_to_next_cell": 2
   },
   "outputs": [],
   "source": [
    "# Fill 1d histograms:\n",
    "def create_1d_hist(ax, values, bins, x_range, title):\n",
    "    ax.hist(values, bins, x_range, histtype='step', density=False, lw=2)         \n",
    "    ax.set(xlim=x_range, title=title)\n",
    "    hist_data = np.histogram(values, bins, x_range)\n",
    "    return hist_data"
   ]
  },
  {
   "cell_type": "code",
   "execution_count": 21,
   "metadata": {
    "lines_to_next_cell": 2
   },
   "outputs": [],
   "source": [
    "# Calculate the ChiSquare value for comparison of histogram with constant.\n",
    "# This is not a fit, as there are no free parameters: We know the number of events and bins!\n",
    "def get_chi2_ndf( hist, const):\n",
    "    data = hist[0]\n",
    "    const_unnormed = const * data.sum()\n",
    "    chi2 = np.sum( (data - const_unnormed)**2 / data )\n",
    "    ndof = data.size\n",
    "    return chi2, ndof"
   ]
  },
  {
   "cell_type": "markdown",
   "metadata": {},
   "source": [
    "---\n",
    "## Import random numbers from text file:"
   ]
  },
  {
   "cell_type": "code",
   "execution_count": 22,
   "metadata": {},
   "outputs": [],
   "source": [
    "# Define list of input files:\n",
    "dataset_letter='A' # between A and G\n",
    "infiles = [\"data_RandomDigits2021_\" + dataset_letter + \".txt\" ]"
   ]
  },
  {
   "cell_type": "code",
   "execution_count": 23,
   "metadata": {},
   "outputs": [],
   "source": [
    "# List containing all numbers:\n",
    "numbers = []"
   ]
  },
  {
   "cell_type": "code",
   "execution_count": 24,
   "metadata": {},
   "outputs": [],
   "source": [
    "# Loop over input files open them in read mode\n",
    "for ifile in infiles : \n",
    "    with open( ifile, \"r\" ) as current_file : \n",
    "        # Extract current file info : Loop through each line in the file, loop through each character\n",
    "        # in the line, demand character is not empty (\"\") and convert the result to an integer\n",
    "        # Finally add result to the numbers list\n",
    "        numbers += [int(char) for line in current_file for char in line.strip() if char is not \"\"]"
   ]
  },
  {
   "cell_type": "code",
   "execution_count": 25,
   "metadata": {
    "lines_to_next_cell": 2
   },
   "outputs": [
    {
     "name": "stdout",
     "output_type": "stream",
     "text": [
      "[2 8 2 ... 1 7 6] 6390\n"
     ]
    }
   ],
   "source": [
    "numbers = np.array(numbers)\n",
    "print(numbers, len(numbers))"
   ]
  },
  {
   "cell_type": "markdown",
   "metadata": {},
   "source": [
    "---\n",
    "## Define your tests:\n",
    "\n",
    "Here is an example plot from the data, just for convenience. It is all up to you from here..."
   ]
  },
  {
   "cell_type": "code",
   "execution_count": 26,
   "metadata": {},
   "outputs": [
    {
     "data": {
      "image/png": "[encoded data removed]",
      "text/plain": [
       "<Figure size 1080x360 with 3 Axes>"
      ]
     },
     "metadata": {
      "needs_background": "light"
     },
     "output_type": "display_data"
    }
   ],
   "source": [
    "fig, ax = plt.subplots(nrows=1, ncols=3, figsize=(15, 5))\n",
    "ax_number, ax_odd_even, ax_high_low = ax.flatten()\n",
    "\n",
    "# Fill 1d histograms and plot them:\n",
    "hist_numbers  = create_1d_hist(ax_number,   numbers,     10, (-0.5, 9.5), 'Numbers posted')                # Plot all digits\n",
    "hist_odd_even = create_1d_hist(ax_odd_even, numbers % 2,  2, (-0.5, 1.5), 'Even and odd numbers')          # Is number even or odd\n",
    "hist_high_low = create_1d_hist(ax_high_low, numbers // 5, 2, (-0.5, 1.5), 'Above and equal to or below 5') # Is number >= or < 5\n",
    "fig.tight_layout()"
   ]
  },
  {
   "cell_type": "markdown",
   "metadata": {},
   "source": [
    "### Comments on even/odd histogram:\n",
    "\n",
    "What would you expect this distribution to be? Think about it, and then ask, if the distribution observed in data truly follows your expectation. Afterwards, think about the many other tests, that you can perform."
   ]
  },
  {
   "cell_type": "markdown",
   "metadata": {},
   "source": [
    "### Note on general goal of hypothesis tests:\n",
    "Given the outcome of some test, you should try to convert it to a probability or number of sigmas (same thing). Thus determine what you expect, and then see what you observe and what error your observation has... and determine if this is consistent with the (null) hypothesis, that the data is truly random digits."
   ]
  },
  {
   "cell_type": "markdown",
   "metadata": {},
   "source": [
    "---\n",
    "## Calculate the $\\chi^{2}$ given a constant value (Constant is not a free parameter here)"
   ]
  },
  {
   "cell_type": "code",
   "execution_count": 27,
   "metadata": {},
   "outputs": [],
   "source": [
    "chi2_ndf_number_hist   = get_chi2_ndf( hist_numbers,  1.0 / 10)\n",
    "chi2_ndf_odd_even_hist = get_chi2_ndf( hist_odd_even, 1.0 / 2 )\n",
    "chi2_ndf_high_low_hist = get_chi2_ndf( hist_high_low, 1.0 / 2 )"
   ]
  },
  {
   "cell_type": "code",
   "execution_count": 28,
   "metadata": {},
   "outputs": [
    {
     "name": "stdout",
     "output_type": "stream",
     "text": [
      "Compatability that distributions stem from random numbers : \n",
      "Raw digits: Prob(Chi2=  9.01, Ndof=10) = 0.53089775\n",
      "Odd/Even:   Prob(Chi2=  0.95, Ndof= 2) = 0.62118441\n",
      "High/Low:   Prob(Chi2=  1.10, Ndof= 2) = 0.57567725\n"
     ]
    }
   ],
   "source": [
    "# Write your result: \n",
    "print(\"Compatability that distributions stem from random numbers : \")\n",
    "print(\"Raw digits: Prob(Chi2={:6.2f}, Ndof={:2d}) = {:10.8f}\".format(chi2_ndf_number_hist[0], chi2_ndf_number_hist[1], \n",
    "                                                             stats.chi2.sf(chi2_ndf_number_hist[0], chi2_ndf_number_hist[1])))\n",
    "print(\"Odd/Even:   Prob(Chi2={:6.2f}, Ndof={:2d}) = {:10.8f}\".format(chi2_ndf_odd_even_hist[0], chi2_ndf_odd_even_hist[1], \n",
    "                                                             stats.chi2.sf(chi2_ndf_odd_even_hist[0], chi2_ndf_odd_even_hist[1])))\n",
    "print(\"High/Low:   Prob(Chi2={:6.2f}, Ndof={:2d}) = {:10.8f}\".format(chi2_ndf_high_low_hist[0], chi2_ndf_high_low_hist[1], \n",
    "                                                             stats.chi2.sf(chi2_ndf_high_low_hist[0], chi2_ndf_high_low_hist[1])))"
   ]
  },
  {
   "cell_type": "markdown",
   "metadata": {},
   "source": [
    "## Compare sequence frequency with Poisson hypothesis (for sequence length 3):\n",
    "\n",
    "The probability of any specific sequence of three digits has probability $1/1000$ for random numbers. With $N$ digits (roughly 5000 here), each sequence should be represented $lambda = N/1000$ times, and as $p$ of a specific sequence is small and the number of sequences $N$ is large, the distribution of sequence frequency should follow a Poisson distribution. This is tested below."
   ]
  },
  {
   "cell_type": "code",
   "execution_count": 29,
   "metadata": {},
   "outputs": [],
   "source": [
    "# Poisson:\n",
    "# -------------\n",
    "def func_Poisson(x, N, lamb) :\n",
    "    if (x > -0.5) :\n",
    "        return N * stats.poisson.pmf(x, lamb)\n",
    "    else : \n",
    "        return 0.0\n",
    "    \n",
    "func_Poisson_vec = np.vectorize(func_Poisson)"
   ]
  },
  {
   "cell_type": "markdown",
   "metadata": {},
   "source": [
    "### Count how many of each sequency:\n",
    "\n",
    "Thus, for sequences of length 3 there are 1000 posibilities, which are then counted in a histogram spanning 1000 bins. This works for all seqence lengths!"
   ]
  },
  {
   "cell_type": "code",
   "execution_count": 30,
   "metadata": {},
   "outputs": [],
   "source": [
    "seq = []\n",
    "for i in range(-2, len(numbers)-2) : \n",
    "    seq.append(100*numbers[i] + 10*numbers[i+1] + numbers[i+2])\n",
    "seq = np.array(seq)\n",
    "\n",
    "# Put it into a histogram, which spans all possible outcomes:\n",
    "poisson_counts, _ = np.histogram(seq, 1001, range=(-0.5, 1000.5))"
   ]
  },
  {
   "cell_type": "markdown",
   "metadata": {},
   "source": [
    "### Plotting the distribution (in the relevant range):\n",
    "\n",
    "Note the binning, which is (again) made to match integers in a range (this little trick/choice is very useful):"
   ]
  },
  {
   "cell_type": "code",
   "execution_count": 31,
   "metadata": {},
   "outputs": [
    {
     "data": {
      "image/png": "[encoded data removed]",
      "text/plain": [
       "<Figure size 864x576 with 1 Axes>"
      ]
     },
     "metadata": {
      "needs_background": "light"
     },
     "output_type": "display_data"
    }
   ],
   "source": [
    "Nbins = 21\n",
    "xmin, xmax = -0.5, 20.5\n",
    "\n",
    "fig3, ax3 = plt.subplots(figsize=(12,8))\n",
    "hist_poisson3 = ax3.hist(poisson_counts, Nbins, range=(xmin, xmax))\n",
    "\n",
    "counts, x_edges, _ = hist_poisson3\n",
    "x_centers = 0.5*(x_edges[1:] + x_edges[:-1])"
   ]
  },
  {
   "cell_type": "code",
   "execution_count": 32,
   "metadata": {},
   "outputs": [
    {
     "name": "stdout",
     "output_type": "stream",
     "text": [
      "The Poisson fit yields a probability of 0.040145\n"
     ]
    }
   ],
   "source": [
    "x = x_centers[counts>0]\n",
    "y = counts[counts>0]\n",
    "sy = np.sqrt(y)\n",
    "\n",
    "chi2_object = Chi2Regression(func_Poisson, x, y, sy)\n",
    "minuit = Minuit(chi2_object, pedantic=False, N=1000, lamb=poisson_counts.mean())\n",
    "minuit.migrad()     # Launch the fit\n",
    "\n",
    "chi2_val = minuit.fval\n",
    "N_DOF = len(y) - len(minuit.args)\n",
    "chi2_prob = stats.chi2.sf(chi2_val, N_DOF)\n",
    "print(\"The Poisson fit yields a probability of {:8.6f}\".format(chi2_prob))"
   ]
  },
  {
   "cell_type": "code",
   "execution_count": 33,
   "metadata": {},
   "outputs": [
    {
     "data": {
      "image/png": "[encoded data removed]",
      "text/plain": [
       "<Figure size 864x576 with 1 Axes>"
      ]
     },
     "execution_count": 33,
     "metadata": {},
     "output_type": "execute_result"
    }
   ],
   "source": [
    "d = {'Entries'  : \"{:d}\".format(len(poisson_counts)),\n",
    "     'Mean'     : \"{:.5f}\".format(poisson_counts.mean()),\n",
    "     'STD Dev'  : \"{:.5f}\".format(poisson_counts.std(ddof=1)),\n",
    "     'Chi2/ndf' : \"{:.1f} / {:2d}\".format(chi2_val, N_DOF),\n",
    "     'Prob'     : \"{:.6f}\".format(chi2_prob),\n",
    "     'N'        : \"{:.1f} +/- {:.1f}\".format(minuit.values['N'], minuit.errors['N']),\n",
    "     'Lambda'   : \"{:.2f} +/- {:.2f}\".format(minuit.values['lamb'], minuit.errors['lamb'])\n",
    "    }\n",
    "\n",
    "ax3.text(0.55, 0.95, nice_string_output(d),\n",
    "    family='monospace',\n",
    "    transform=ax3.transAxes, fontsize=14,\n",
    "    verticalalignment='top');\n",
    "\n",
    "binwidth = (xmax-xmin) / Nbins \n",
    "xaxis = np.linspace(xmin, xmax, 500)\n",
    "yaxis = binwidth*func_Poisson_vec(np.floor(xaxis+0.5), *minuit.args)\n",
    "ax3.plot(xaxis, yaxis)\n",
    "fig3"
   ]
  },
  {
   "cell_type": "markdown",
   "metadata": {},
   "source": [
    "Questions:\n",
    "---\n",
    " 1. Discuss with your peers, what criteria truly random numbers should satisfy, and how these criteria can be tested.\n",
    "    Based on this and on the discussion in class, write up such tests, and run all the datasets through your tests to\n",
    "    see if some do not seem to be truly random.\n",
    "\n",
    "*Example Solution to problem 1*:<br>\n",
    "\n",
    "There is a near infinity of possible tests, but an example list of the simplest could be:\n",
    " - Runs test of even-odd, high-low, and in fact any division of the numbers (also un-even size groups).\n",
    " - ChiSquare test of distribution of sequences of digits. Given about 6000 digits, test of 1-5 lengths sequences makes good sense.\n",
    " - Check of (cor)relation between digits with a certain distance between them, to check for copies or shifts of data. Thus the 2 sequence test with N digits between them still has 100 outcomes, which for truly random numbers (null hypothesis) should be evenly distributed.\n",
    " - Kolmogorov-Smirnov test of distribution of digit frequences (to check if there is a shift too \"slow\" to be detected by the ChiSquare.\n",
    " - Consider sums of N consequtive numbers, where again the distrution of truly random digits is known.\n",
    "\n",
    "\n",
    " 2. While one dataset is truly random, another consists of decimals from $\\pi$. Apart from your own data, the other\n",
    "    data sets are the result of using random numbers, but applying shifting, copying, and using biased selections.\n",
    "    The non-human data sets are thus supposedly more regular (in some sense) than the humanly generated one. See if\n",
    "    you can determine which one is \"your\" (humanly generated) data.\n",
    "\n",
    "*Example Solution to problem 2*:<br>\n",
    "\n",
    "The true source of the different files is given below. The human/student file should be the easiest to spot, as there is data enough for it to fail several simple tests. The truly random and pi digits are truly random, and thus it requires the pi-digit file to tell which is which. The \"100 digits with shift\" and \"7th digit copied from 5 positions earlier\" would be clearly detected by the third test suggested above, as it will for N=100 give perfect correlation! The Icecube data and Four Gaussians both suffer in their digit frequency, but in different ways, which should make these possible to spot."
   ]
  },
  {
   "cell_type": "markdown",
   "metadata": {},
   "source": [
    "The different datasets were distributed as follows (thus \"D\" was the humanly produced from the questionaire):\n",
    "\n",
    "* data_RandomDigits2021_100WithShift $\\rightarrow$ G\n",
    "* data_RandomDigits2021_7thCopiedFrom5before.txt $\\rightarrow$ F\n",
    "* data_RandomDigits2021_TrulyRandom.txt $\\rightarrow$ E\n",
    "* data_RandomDigits2021_FromStudents.txt $\\rightarrow$ D\n",
    "* data_RandomDigits2021_DigitsOfPi.txt $\\rightarrow$ A\n",
    "* data_RandomDigits2021_IceCubedata.txt $\\rightarrow$ B\n",
    "* data_RandomDigits2021_FourGaussians.txt $\\rightarrow$ C"
   ]
  },
  {
   "cell_type": "code",
   "execution_count": null,
   "metadata": {},
   "outputs": [],
   "source": []
  }
 ],
 "metadata": {
  "executable": "/usr/bin/env python",
  "kernelspec": {
   "display_name": "Python 3",
   "language": "python",
   "name": "python3"
  },
  "language_info": {
   "codemirror_mode": {
    "name": "ipython",
    "version": 3
   },
   "file_extension": ".py",
   "mimetype": "text/x-python",
   "name": "python",
   "nbconvert_exporter": "python",
   "pygments_lexer": "ipython3",
   "version": "3.7.6"
  },
  "main_language": "python"
 },
 "nbformat": 4,
 "nbformat_minor": 2
}
