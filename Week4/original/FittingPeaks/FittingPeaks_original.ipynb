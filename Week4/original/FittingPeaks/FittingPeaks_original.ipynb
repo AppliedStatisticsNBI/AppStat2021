{
 "cells": [
  {
   "cell_type": "markdown",
   "metadata": {},
   "source": [
    "# Fitting is an Art!\n",
    "\n",
    "## Description\n",
    "Python macro for fitting (possible) peaks (typically signal) on top of a distribution (typically background). It is an exercise in setting confidence intervals and limits (here on a possible signal). It is also an exercise in making ChiSquare (and likelihood fits) work, and get a feel for which fitting proceedure is likely to give good results.\n",
    "\n",
    "This program contains most the necessary code for fitting with a ChiSquare. The case has been chosen carefully, and should illustrate several points. Please, _play around_ with it as much as you can.\n",
    "\n",
    "\n",
    "## Your Task\n",
    "\n",
    "The below are indicative questions, and you should end by being able to estimate the significance of your signal, and set limits on the signal size, when you don't see a significant signal.\n",
    "\n",
    "\n",
    "### Authors\n",
    "- Troels Petersen ([email](mailto:petersen@nbi.dk))\n",
    "\n",
    "### Date\n",
    "10th of December 2021 (latest version)\n",
    "\n",
    "---"
   ]
  },
  {
   "cell_type": "code",
   "execution_count": 1,
   "metadata": {},
   "outputs": [],
   "source": [
    "import numpy as np\n",
    "import matplotlib.pyplot as plt\n",
    "from iminuit import Minuit\n",
    "from scipy import stats\n",
    "import os, sys                                         # Modules to see files and folders in directories\n",
    "from os.path import dirname as parent_folder\n",
    "# plt.close('all')"
   ]
  },
  {
   "cell_type": "code",
   "execution_count": 2,
   "metadata": {},
   "outputs": [],
   "source": [
    "sys.path.append('../../../External_Functions')\n",
    "from ExternalFunctions import Chi2Regression, BinnedLH, UnbinnedLH\n",
    "from ExternalFunctions import nice_string_output, add_text_to_ax    # Useful functions to print fit results on figure"
   ]
  },
  {
   "cell_type": "markdown",
   "metadata": {},
   "source": [
    "Ignore LogWarning (Python may complain, if it takes the log of too small numbers, e.g. log-likelihood):"
   ]
  },
  {
   "cell_type": "code",
   "execution_count": 3,
   "metadata": {},
   "outputs": [],
   "source": [
    "import warnings\n",
    "warnings.filterwarnings(\"ignore\")"
   ]
  },
  {
   "cell_type": "code",
   "execution_count": 4,
   "metadata": {},
   "outputs": [],
   "source": [
    "r = np.random             # Random generator\n",
    "r.seed(38)                # Set a random (but fixed) seed"
   ]
  },
  {
   "cell_type": "code",
   "execution_count": 5,
   "metadata": {},
   "outputs": [],
   "source": [
    "Verbose = False\n",
    "Saveplots = False\n",
    "plt.rcParams.update({'font.size': 18})"
   ]
  },
  {
   "cell_type": "markdown",
   "metadata": {},
   "source": [
    "### Main setting - looking for peaks or not that are there or not!\n",
    "\n",
    "These are switches to decide, if signal should be included in the data, and also fitted for:"
   ]
  },
  {
   "cell_type": "code",
   "execution_count": 6,
   "metadata": {},
   "outputs": [],
   "source": [
    "IncludeSignalInData = False\n",
    "IncludeSignalInFit = False"
   ]
  },
  {
   "cell_type": "markdown",
   "metadata": {},
   "source": [
    "One may want to assert, that one is not fitting for a signal, that is not there! However, in reality this is often what we actually do, to assert what the largest deviation from background is. This type of \"bump hunting\" can be challeging, and very common in many sciences."
   ]
  },
  {
   "cell_type": "markdown",
   "metadata": {},
   "source": [
    "---\n",
    "## CASE: Possible Gaussian signal peak distribution on an exponential background:\n",
    " * $signal(x) = \\frac{N_{sig}}{\\sigma \\sqrt{2\\pi}} \\cdot \\exp{\\left [-0.5 \\cdot (\\frac{x-\\mu}{\\sigma})^{2}\\right]}$ for $x$ in [0,200]\n",
    " \n",
    " * $bkg(x) = N_{bkg} \\cdot  c \\cdot \\exp{[-cx]}$                   for $x$ in [0,200]\n",
    "---"
   ]
  },
  {
   "cell_type": "code",
   "execution_count": 7,
   "metadata": {},
   "outputs": [],
   "source": [
    "# Produce signal (Gaussian peak):\n",
    "Nsigx  = 50\n",
    "mux    = 125.0\n",
    "mux_init = mux                     # Initial value to use for the peak position in fit\n",
    "sigmax =   3.0\n",
    "\n",
    "# For signal peak of unknown position:\n",
    "# mux    = r.uniform(10.0, 190.0)\n",
    "# print(\"Real peak position: \", mux)\n",
    "\n",
    "if IncludeSignalInData:\n",
    "    x_signal = r.normal(mux, sigmax, Nsigx)\n",
    "    if (Verbose) :\n",
    "        print(\"  Signal: \", x_signal)\n",
    "else:\n",
    "    x_signal = []"
   ]
  },
  {
   "cell_type": "code",
   "execution_count": 8,
   "metadata": {},
   "outputs": [],
   "source": [
    "# Produce background (here exponential):\n",
    "Nbkgx =  25000\n",
    "taux  =   80.0    # \"Lifetime\" of background\n",
    "x_background = r.exponential(taux, Nbkgx)\n",
    "if (Verbose) :\n",
    "    print(\"  Background: \", x_background)"
   ]
  },
  {
   "cell_type": "code",
   "execution_count": 9,
   "metadata": {},
   "outputs": [],
   "source": [
    "# Histogram specifications:\n",
    "xmin =   0.0\n",
    "xmax = 200.0\n",
    "Nbins =  100       # Note that this gives the bins a natural width, and is much smaller than sigma of the signal!\n",
    "binwidth = (xmax-xmin) / Nbins"
   ]
  },
  {
   "cell_type": "code",
   "execution_count": 10,
   "metadata": {
    "lines_to_next_cell": 2
   },
   "outputs": [],
   "source": [
    "# Note: The x_signal and x_background needs to be in a parenthesis inside the other\n",
    "# parenthesis, because of the posibility of several other options.\n",
    "x_data = np.concatenate((x_signal, x_background))    # Combine the two numpy arrays\n",
    "if (Verbose) :\n",
    "    print(\"  Data: \", x_data)"
   ]
  },
  {
   "cell_type": "markdown",
   "metadata": {},
   "source": [
    "---\n",
    "Define PDFs:\n",
    "---"
   ]
  },
  {
   "cell_type": "code",
   "execution_count": 11,
   "metadata": {},
   "outputs": [],
   "source": [
    "# Normalized Gaussian:\n",
    "def gauss_pdf(x, mu, sigma):\n",
    "    return 1.0 / np.sqrt(2 * np.pi) / np.abs(sigma) * np.exp(-(x - mu)**2 / 2.0 / sigma**2)"
   ]
  },
  {
   "cell_type": "code",
   "execution_count": 12,
   "metadata": {},
   "outputs": [],
   "source": [
    "# Normalized Exponential:\n",
    "def exponential_pdf(x, tau):\n",
    "    return 1.0 / tau * np.exp(-x/tau)"
   ]
  },
  {
   "cell_type": "markdown",
   "metadata": {},
   "source": [
    "Next we write up the full model PDF for a ChiSquare [CS] fit. You can also put one for Binned/Unbinned Likelihood [BL/UL]. They are identical, except for the normalisation, where the ChiSquare includes the bin width.\n",
    "\n",
    "We make two versions, one which is a background fit only, and the other which includes the signal PDF in the fit function."
   ]
  },
  {
   "cell_type": "code",
   "execution_count": 13,
   "metadata": {},
   "outputs": [],
   "source": [
    "if IncludeSignalInFit:\n",
    "    def PDFmodel_CS(x, Nsig, mu, sigma, Nbkg, tau) :\n",
    "        return Nbkg * binwidth * exponential_pdf(x, tau) + Nsig * binwidth * gauss_pdf(x, mu, sigma)\n",
    "        \n",
    "    #def PDFmodel_BL(x, Nsig, mu, sigma, Nbkg, tau) :\n",
    "    #    return ???\n",
    "    \n",
    "    #def PDFmodel_UL(x, Nsig, mu, sigma, Nbkg, tau) :\n",
    "    #    return ???\n",
    "    \n",
    "else:\n",
    "    def PDFmodel_CS(x, Nbkg, tau) :\n",
    "        return Nbkg * binwidth * exponential_pdf(x, tau) \n",
    "        \n",
    "    #def PDFmodel_BL(x, Nbkg, tau) :\n",
    "    #    return ???\n",
    "    \n",
    "    #def PDFmodel_UL(x, Nbkg, tau) :\n",
    "    #    return ???\n",
    "    "
   ]
  },
  {
   "cell_type": "markdown",
   "metadata": {},
   "source": [
    "---\n",
    "Plot the data:\n",
    "---\n",
    "\n",
    "The data from the histogram is here plotted with error bars:"
   ]
  },
  {
   "cell_type": "code",
   "execution_count": 14,
   "metadata": {},
   "outputs": [
    {
     "data": {
      "image/png": "[encoded data removed]",
      "text/plain": [
       "<Figure size 1080x576 with 1 Axes>"
      ]
     },
     "metadata": {
      "needs_background": "light"
     },
     "output_type": "display_data"
    }
   ],
   "source": [
    "fig, ax = plt.subplots(figsize=(15, 8))\n",
    "# For a normal histogram (without error bars) one would use:\n",
    "# hist_data = ax.hist(x_data, bins=Nbins, range=(xmin, xmax), histtype='step', linewidth=2, label='Data', color='blue')\n",
    "y, bin_edges = np.histogram(x_data, bins=Nbins, range=(xmin, xmax), normed=False)\n",
    "x = 0.5*(bin_edges[1:] + bin_edges[:-1])\n",
    "sy = np.sqrt(y)      # This is the standard for histograms - each bin is Poisson distributed!\n",
    "hist_data = ax.errorbar(x, y, sy, fmt='.', linewidth=2, label=\"Data\")\n",
    "ax.set(xlabel=\"Photon invariant mass [GeV]\", ylabel = \"Frequency / {0:1.0f} GeV\".format(binwidth),\n",
    "       title = \"Distribution of diphoton invariant masses\", xlim=(xmin, xmax))\n",
    "fig;"
   ]
  },
  {
   "cell_type": "markdown",
   "metadata": {},
   "source": [
    "---\n",
    "Fit the data:\n",
    "---"
   ]
  },
  {
   "cell_type": "markdown",
   "metadata": {},
   "source": [
    "NOTE: For the starting values for the fit, we could just use the values that the data was generated with!\n",
    "That would of course be a great advantage. However, one of the main challenges in general fitting is to find these good starting values, which is why (really) poor ones are provided to begin with."
   ]
  },
  {
   "cell_type": "markdown",
   "metadata": {},
   "source": [
    "## $\\chi^{2}$ fit:\n",
    "Do the fit with a Chi2 minimisation (only using bins with entries):"
   ]
  },
  {
   "cell_type": "code",
   "execution_count": 15,
   "metadata": {},
   "outputs": [
    {
     "name": "stdout",
     "output_type": "stream",
     "text": [
      "  WARNING: The ChiSquare fit DID NOT converge!!!\n"
     ]
    }
   ],
   "source": [
    "chi2reg = Chi2Regression(PDFmodel_CS, x[y>0], y[y>0], sy[y>0])\n",
    "if IncludeSignalInFit:\n",
    "    minuit_cs = Minuit(chi2reg, Nsig=50.0, mu=125.0, sigma=3.0, Nbkg=5000.0, tau=80.0)\n",
    "else:\n",
    "    minuit_cs = Minuit(chi2reg, Nbkg=-2000.0, tau=-8.0)\n",
    "minuit_cs.errordef = 1.0\n",
    "minuit_cs.migrad()                                                   # Perform the actual fit\n",
    "if (not minuit_cs.fmin.is_valid) :                                   # Check if the fit converged\n",
    "    print(\"  WARNING: The ChiSquare fit DID NOT converge!!!\")"
   ]
  },
  {
   "cell_type": "code",
   "execution_count": 16,
   "metadata": {},
   "outputs": [
    {
     "name": "stdout",
     "output_type": "stream",
     "text": [
      "  ChiSquare Fit result: Nbkg = -0.5 +/- 0.0\n",
      "  ChiSquare Fit result: tau = -25.7 +/- 0.3\n"
     ]
    }
   ],
   "source": [
    "if IncludeSignalInFit:\n",
    "    csfit_Nsig, csfit_mu, csfit_sigma, csfit_Nbkg, csfit_tau = minuit_cs.values[:]  # The fitted values of the parameters\n",
    "else:\n",
    "    csfit_Nbkg, csfit_tau = minuit_cs.values[:]\n",
    "Chi2_value_cs = minuit_cs.fval                                             # The Chi2 value\n",
    "NvarModel_cs = len(minuit_cs.values[:])\n",
    "Ndof_cs = len(y[y>0]) - NvarModel_cs\n",
    "ProbChi2_cs = stats.chi2.sf(Chi2_value_cs, Ndof_cs)\n",
    "for name in minuit_cs.parameters:\n",
    "    print(\"  ChiSquare Fit result: {0} = {1:.1f} +/- {2:.1f}\".format(name, minuit_cs.values[name], minuit_cs.errors[name]))"
   ]
  },
  {
   "cell_type": "markdown",
   "metadata": {},
   "source": [
    "Plotting the result on top of the previously plotted data:\n",
    "---"
   ]
  },
  {
   "cell_type": "code",
   "execution_count": 17,
   "metadata": {},
   "outputs": [
    {
     "data": {
      "image/png": "[encoded data removed]",
      "text/plain": [
       "<Figure size 1080x576 with 1 Axes>"
      ]
     },
     "execution_count": 17,
     "metadata": {},
     "output_type": "execute_result"
    }
   ],
   "source": [
    "x_csfit = np.linspace(xmin, xmax, 1000)      # Create the x-axis for the plot of the fitted function\n",
    "\n",
    "if IncludeSignalInFit:\n",
    "    y_csfit = PDFmodel_CS(x_csfit, csfit_Nsig, csfit_mu, csfit_sigma, csfit_Nbkg, csfit_tau)\n",
    "else:\n",
    "    y_csfit = PDFmodel_CS(x_csfit, csfit_Nbkg, csfit_tau)\n",
    "\n",
    "ax.plot(x_csfit, y_csfit, '-', color='red', linewidth=2, label='ChiSquare fit')\n",
    "\n",
    "# Adding in some text (useful histogram and fit information) around the plot before showing it:\n",
    "if IncludeSignalInFit:\n",
    "    names = ['Entries', 'Nsig', 'mu', 'sigma', 'Nbkg', 'tau', 'Chi2/ndf', 'Prob']\n",
    "    values = [\"{:d}\".format(len(x_data)),\n",
    "              \"{:.0f} +/- {:.0f}\".format(minuit_cs.values['Nsig'], minuit_cs.errors['Nsig']),\n",
    "              \"{:.1f} +/- {:.1f}\".format(minuit_cs.values['mu'], minuit_cs.errors['mu']),\n",
    "              \"{:.1f} +/- {:.1f}\".format(minuit_cs.values['sigma'], minuit_cs.errors['sigma']),\n",
    "              \"{:.0f} +/- {:.0f}\".format(minuit_cs.values['Nbkg'], minuit_cs.errors['Nbkg']),\n",
    "              \"{:.1f} +/- {:.1f}\".format(minuit_cs.values['tau'], minuit_cs.errors['tau']),\n",
    "              \"{:.1f} / {:d}\".format(Chi2_value_cs, Ndof_cs),\n",
    "              \"{:.3f}\".format(ProbChi2_cs),\n",
    "              ]\n",
    "else:\n",
    "    names = ['Entries', 'Nbkg', 'tau', 'Chi2/ndf', 'Prob']\n",
    "    values = [\"{:d}\".format(len(x_data)),\n",
    "              \"{:.0f} +/- {:.0f}\".format(minuit_cs.values['Nbkg'], minuit_cs.errors['Nbkg']),\n",
    "              \"{:.1f} +/- {:.1f}\".format(minuit_cs.values['tau'], minuit_cs.errors['tau']),\n",
    "              \"{:.1f} / {:d}\".format(Chi2_value_cs, Ndof_cs),\n",
    "              \"{:.3f}\".format(ProbChi2_cs),\n",
    "              ]\n",
    "    \n",
    "d={}\n",
    "for n,v in zip(names,values):\n",
    "    d[n]=v\n",
    "\n",
    "ax.text(0.60, 0.80, nice_string_output(d, 0), family='monospace', \n",
    "        transform=ax.transAxes, fontsize=18, color='red', verticalalignment='top')\n",
    "\n",
    "fig.tight_layout()\n",
    "ax.legend()\n",
    "fig"
   ]
  },
  {
   "cell_type": "code",
   "execution_count": 18,
   "metadata": {},
   "outputs": [],
   "source": [
    "if Saveplots:\n",
    "    fig.savefig(\"ExampleLikelihoodFit\", dpi=600)"
   ]
  },
  {
   "cell_type": "markdown",
   "metadata": {},
   "source": [
    "Questions:\n",
    "---\n",
    " 0. Given the data (first without signal), consider the ChiSquare fit that is provided, and see if it fits well.\n",
    "    Remember to give the fit good starting values. Alternatively, see if you can write a ChiSquare fit yourself to\n",
    "    match the data.\n",
    " \n",
    " \n",
    " 1. Run the program without a signal peak and reasonably high statistics (as done initially).\n",
    "    Is the fit good? Think about how you _quantify_ if the model is good,\n",
    "    and what the value/quantity that you base it on means.\n",
    " \n",
    " \n",
    " 2. Now lower the number of background events from 25000 to 250 and ask yourself the above\n",
    "    questions. Would you change the fitting type, if this was your data?\n",
    "    If you feel up for it, can you write an unbinned likelihood fit? Remember, that contrary to the\n",
    "    ChiSquare fit, this should not include the binwidth in the normalisation of the PDF. And if you\n",
    "    feel on top of things, then perhaps a binned one?\n",
    "\n",
    "\n",
    " 3. Go go back to 25000 background, and switch on a signal of 50 events (i.e. \"IncludeSignalInData\"). \n",
    "    How confident are you, that you can see the signal in the data? Probably not! Now make the signal more clear in \n",
    "    two ways:\n",
    "    1. Lower the number of background events.\n",
    "    2. Increase the number of signal events.\n",
    "    Do both (separately) until the point where you are certain, that you can see a peak by eye.\n",
    "    Now switch on the signal fit (i.e. \"IncludeSignalInFit\") and consider the significance (i.e.\n",
    "    the number of sigmas) of Nsig. Does the size of this correspond well with your observation?\n",
    "    At how many sigmas were you \"certain\"?\n",
    "\n",
    "\n",
    " 4. Given a \"clear signal\", try to give a 68% and a 95% confidence intervals on the signal parameters. This simply\n",
    "    amounts to taking +- 1 and 2 uncertainties of the parameter. Following this, try to set a 95% confidence _limit_\n",
    "    on a signal, that is not \"clear\" (e.g. where Nsig is not 2 sigma significant). This task is harder. Here, you\n",
    "    should ask yourself for the size of a signal, that you would be 95% sure of discovering, and setting this as the\n",
    "    limit. Don't worry, if you don't succeed on this.\n",
    "\n",
    "    \n",
    " 5. Following the above cases, now try to switch off the inclusion of a signal in your fit, and see if\n",
    "    the \"background-only\" fit is OK despite having a \"certain\" peak in it! Do you still feel \"certain\"\n",
    "    about the peak?\n",
    "    \n",
    "    Note by how much the ChiSquare changes. Since you introduce three new parameters in the fit, when allowing for a\n",
    "    peak, your ChiSquare value should decrease, but does it decrease \"enough\". The rule of thumb is, that the decrease\n",
    "    in chisquare ($\\chi^2_{peak} - \\chi^2_{no peak}$ should be chisquare distributed with Ndof equal to the differene\n",
    "    in number of parameters (chisquare equivalent of Wilk's theorem).\n",
    "\n",
    "NOTE: It is the ratio of likelihood values from the fit, which are used in a hypothesis test to determine,\n",
    "which hypothesis (Null: \"Background only\", Alternative: \"Background and Signal\"), which is the most likely.\n",
    "This of course requires a likelihood fit, and is then based on Wilk's theorem.\n",
    "Normally, one can also simply consider the difference in Chi2 values, which in the limit of large statistics\n",
    "gives the same result (as suggested above).\n",
    "\n",
    " 6. Try to set the number of signal events to 200 and background to 25000, but choose a random location\n",
    "    of the signal peak (mux) and set the initial value to say 125, i.e. pretending that you don't know, if or\n",
    "    where there is a peak. See if the fit can find the position of the signal peak and hence converge correctly.\n",
    "    Set the random seed to be empty (i.e. no number in the parenthesis), giving new random numbers every time,\n",
    "    and see how often the fit converges on the true peak. Is a good initial value essential?\n",
    "\n",
    "\n",
    " 7. Also try to remove the signal from data, and see if the fit (including signal) still \"finds\"\n",
    "    any peaks. This is the pitfall of searching for peaks, that may very well not be there!!!\n",
    "\n",
    "\n",
    " 8. Given 500 background and 20 signal events, ask yourself what helps the most to discover\n",
    "    a signal peak:\n",
    "     - Removing half the background below the peak.\n",
    "     - Improving the resolution (sigma) by a factor two.\n",
    "     \n",
    "    Discuss first what you think (and why) with those around you, and then try it out with this fit.\n",
    "\n",
    "\n",
    "Advanced questions:\n",
    "---\n",
    " 0. In general, how far can the initial parameter values stray from the true ones,\n",
    "    and still find the correct signal peak and hence true minimum of the Chi2/LLH?\n",
    "\n",
    "\n",
    " 1. Make a loop to repeat the fits many times, and see how the result of the\n",
    "    fit compares to the true values. Which fit is least biased? And does this depend\n",
    "    on the value of the input parameters?\n",
    "\n",
    "\n",
    " 2. The likelihood value does not in itself tell you much. But if repeated many times\n",
    "    (as above) it can be used to evaluate the fit at hand. Try to produce new data and\n",
    "    fit it 1000 times, and see the distribution of likelihood values obtained... and\n",
    "    then compare the \"original data LLH value\" with this distribution! From this, one\n",
    "    can actually obtain a probability for the LLH in the same way as for the ChiSquare.\n"
   ]
  },
  {
   "cell_type": "code",
   "execution_count": null,
   "metadata": {},
   "outputs": [],
   "source": []
  }
 ],
 "metadata": {
  "executable": "/usr/bin/env python",
  "kernelspec": {
   "display_name": "Python 3",
   "language": "python",
   "name": "python3"
  },
  "language_info": {
   "codemirror_mode": {
    "name": "ipython",
    "version": 3
   },
   "file_extension": ".py",
   "mimetype": "text/x-python",
   "name": "python",
   "nbconvert_exporter": "python",
   "pygments_lexer": "ipython3",
   "version": "3.7.6"
  },
  "main_language": "python"
 },
 "nbformat": 4,
 "nbformat_minor": 2
}
