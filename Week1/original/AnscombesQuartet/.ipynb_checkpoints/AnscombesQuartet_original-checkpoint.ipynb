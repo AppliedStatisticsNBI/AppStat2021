{
 "cells": [
  {
   "cell_type": "markdown",
   "metadata": {},
   "source": [
    "# Anscombe's Quartet\n",
    "\n",
    "This script is meant to illustrate the importance of VISUAL INSPECTION of a dataset. The example is taken from a __[paper](http://www.sjsu.edu/faculty/gerstman/StatPrimer/anscombe1973.pdf)__ written by Frank Anscombe in 1973.\n",
    "\n",
    "In this problem, you are provided with four datasets sharing the following characteristics:\n",
    "\n",
    "-  Mean of each x variable: 9.0\n",
    "-  Variance of each x variable: 10.0\n",
    "-  Mean of each y variable:  7.5\n",
    "-  Variance of each y variable: 3.75\n",
    "-  Correlation between each x and y variable: 0.816\n",
    "-  Linear regression line: y = 3 + 0.5x\n",
    "\n",
    "The purpose of this example is to show that, despite having the same statistical propeties, data sets can often look very different from one another, hence the importance of plotting the data first.\n",
    "\n",
    "## References:\n",
    "- __[Wikipedia: \"Anscombe's Quartet\"](https://en.wikipedia.org/wiki/Anscombe%27s_quartet)__\n",
    "\n",
    "## Author(s), contact(s), and dates:\n",
    "- Author: Troels C. Petersen (NBI)\n",
    "- Email:  petersen@nbi.dk\n",
    "- Date:   8th of November 2021\n",
    "\n",
    "---"
   ]
  },
  {
   "cell_type": "markdown",
   "metadata": {},
   "source": [
    "### Your Task\n",
    "1) First acquaint yourself with the program, and get yourself a \"free\" (hopefully not first!) look at how Python works. Understand that each of the four distributions are being fitted with a linear function (here called \"fit_p1\") and the results plottet. There are comments for most lines in the macro!\n",
    "\n",
    "2) Run each step of the notebook sequentially, and then take a close look at each of the four results.\n"
   ]
  },
  {
   "cell_type": "code",
   "execution_count": null,
   "metadata": {},
   "outputs": [],
   "source": [
    "import numpy as np\n",
    "import matplotlib.pyplot as plt\n",
    "from iminuit import Minuit\n",
    "import sys"
   ]
  },
  {
   "cell_type": "code",
   "execution_count": null,
   "metadata": {},
   "outputs": [],
   "source": [
    "sys.path.append('../../../External_Functions')\n",
    "from ExternalFunctions import Chi2Regression, BinnedLH, UnbinnedLH\n",
    "from ExternalFunctions import nice_string_output, add_text_to_ax   # Useful functions to print fit results on figure"
   ]
  },
  {
   "cell_type": "markdown",
   "metadata": {},
   "source": [
    "We begin by inserting the data into numpy arrays:"
   ]
  },
  {
   "cell_type": "code",
   "execution_count": null,
   "metadata": {},
   "outputs": [],
   "source": [
    "save_plots = True\n",
    "N_datasets = 4\n",
    "N_points   = 11"
   ]
  },
  {
   "cell_type": "code",
   "execution_count": null,
   "metadata": {},
   "outputs": [],
   "source": [
    "# Define data samples\n",
    "x = np.array([ [ 10.0,  8.0, 13.0,  9.0, 11.0, 14.0,  6.0,  4.0, 12.0,  7.0,  5.0 ] ,\n",
    "               [ 10.0,  8.0, 13.0,  9.0, 11.0, 14.0,  6.0,  4.0, 12.0,  7.0,  5.0 ] ,\n",
    "               [ 10.0,  8.0, 13.0,  9.0, 11.0, 14.0,  6.0,  4.0, 12.0,  7.0,  5.0 ] ,\n",
    "               [  8.0,  8.0,  8.0,  8.0,  8.0,  8.0,  8.0, 19.0,  8.0,  8.0,  8.0 ] ])"
   ]
  },
  {
   "cell_type": "code",
   "execution_count": null,
   "metadata": {
    "lines_to_next_cell": 2
   },
   "outputs": [],
   "source": [
    "y = np.array([ [ 8.04,  6.95,  7.58,  8.81,  8.33,  9.96,  7.24,  4.26, 10.84,  4.82,  5.68 ]  ,\n",
    "               [ 9.14,  8.14,  8.74,  8.77,  9.26,  8.10,  6.13,  3.10,  9.13,  7.26,  4.74 ]  ,\n",
    "               [ 7.46,  6.77, 12.74,  7.11,  7.81,  8.84,  6.08,  5.39,  8.15,  6.42,  5.73 ]  ,\n",
    "               [ 6.58,  5.76,  7.71,  8.84,  8.47,  7.04,  5.25, 12.50,  5.56,  7.91,  6.89 ] ])"
   ]
  },
  {
   "cell_type": "markdown",
   "metadata": {
    "lines_to_next_cell": 2
   },
   "source": [
    "We then proceed to fit the data with a linear fit defined below:"
   ]
  },
  {
   "cell_type": "code",
   "execution_count": null,
   "metadata": {},
   "outputs": [],
   "source": [
    "def linear_fit(x, p0, p1):\n",
    "    return p0 + p1*x"
   ]
  },
  {
   "cell_type": "code",
   "execution_count": null,
   "metadata": {},
   "outputs": [],
   "source": [
    "fig, ax = plt.subplots(nrows=2, ncols=2, figsize=(14,10))\n",
    "ax = ax.flatten()   # Go from 2d list to 1d list\n",
    "\n",
    "# Here we make a simultaneous loop over three numpy arrays (the x_i and y_i are then 1D arrays of size 11)\n",
    "for x_i, y_i, ax_i in zip(x, y, ax):\n",
    "        \n",
    "    ax_i.scatter(x_i, y_i, marker='.', color='blue', s=100)  # Make a scatter plot of the i'th data set as blue dots \n",
    "    ax_i.set_title('Graph') \n",
    "\n",
    "    chi2_object_lin = Chi2Regression(linear_fit, x_i, y_i)   # chi2-regression object\n",
    "    minuit_lin = Minuit(chi2_object_lin, pedantic=False, p0=1.0, p1=1.0)  # Sets the initial parameters of the fit\n",
    "    minuit_lin.migrad();                                     # Fit the function to the data\n",
    "\n",
    "    x_fit = np.linspace(0.9*x_i.min(), 1.1*x_i.max())   # Create the x-axis for the plot of the fitted function,\n",
    "    y_fit = linear_fit(x_fit, *minuit_lin.args)         # where we have unpacked the fitted values.\n",
    "    ax_i.plot(x_fit, y_fit, '-r')                       # Plot the fit with a red (\"r\") line (\"-\")\n",
    "    \n",
    "    d = {'p0': [minuit_lin.values['p0'], minuit_lin.errors['p0']],\n",
    "         'p1': [minuit_lin.values['p1'], minuit_lin.errors['p1']],\n",
    "        }\n",
    "    \n",
    "    text = nice_string_output(d, extra_spacing=2, decimals=3)\n",
    "    add_text_to_ax(0.02, 0.97, text, ax_i, fontsize=14)\n",
    "    \n",
    "    # Alternative \"simple\" way of putting values into the plots:\n",
    "    # string = f\"p0 = {minuit_lin.values['p0']:.3f} +/- {minuit_lin.errors['p0']:.3f}\\n\"\n",
    "    # string += f\"p1 = {minuit_lin.values['p1']:.3f} +/- {minuit_lin.errors['p1']:.3f}\"\n",
    "    # ax_i.text(0.05, 0.95, string, family='monospace', transform=ax_i.transAxes, fontsize=10, verticalalignment='top')\n",
    "    \n",
    "fig.tight_layout() "
   ]
  },
  {
   "cell_type": "code",
   "execution_count": null,
   "metadata": {
    "lines_to_next_cell": 2
   },
   "outputs": [],
   "source": [
    "if save_plots:\n",
    "    fig.savefig('plot_AnscombesQuartet.pdf', dpi=600)"
   ]
  },
  {
   "cell_type": "markdown",
   "metadata": {},
   "source": [
    "# Questions:\n",
    "1. Which scenario(s) looks most like real data with uncertainties, but without any mistakes/mismeasurements in it?\n",
    "\n",
    "2. Looking closely at each of the four fits, determine which points gives the largest\n",
    "   contribution to the \"mismatch\" (that is chi-square) between the data and the fit,\n",
    "   if any single.\n",
    "\n",
    "3. Consider how YOU would treat each of the four datasets and how you would model/fit them!\n",
    "\n",
    "\n",
    "### Advanced questions:\n",
    "4. How would you with (smarter) statistical techniques detect that something was\n",
    "   not right without looking?\n"
   ]
  },
  {
   "cell_type": "code",
   "execution_count": null,
   "metadata": {},
   "outputs": [],
   "source": []
  }
 ],
 "metadata": {
  "executable": "/usr/bin/env python",
  "kernelspec": {
   "display_name": "Python 3",
   "language": "python",
   "name": "python3"
  },
  "language_info": {
   "codemirror_mode": {
    "name": "ipython",
    "version": 3
   },
   "file_extension": ".py",
   "mimetype": "text/x-python",
   "name": "python",
   "nbconvert_exporter": "python",
   "pygments_lexer": "ipython3",
   "version": "3.7.6"
  },
  "main_language": "python"
 },
 "nbformat": 4,
 "nbformat_minor": 2
}
