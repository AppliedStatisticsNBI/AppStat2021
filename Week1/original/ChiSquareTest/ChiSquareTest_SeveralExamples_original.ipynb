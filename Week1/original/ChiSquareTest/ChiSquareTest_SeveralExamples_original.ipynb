{
 "cells": [
  {
   "cell_type": "markdown",
   "metadata": {},
   "source": [
    "# ChiSquare test/distribution for general fits:\n",
    "\n",
    "This Python program/notebook illustrates the use of ChiSquare as a goodness-of-fit measure, how this distribution comes about, and that it actually works, here with three different examples! The first example is the linear fit, while the two others are more complicated (oscillatory graph fit and exponential fit of a histogram). However, they have one thing in common, namely the number of degrees of freedom!\n",
    "\n",
    "## References:\n",
    "* Barlow: Chapter 6\n",
    "* Cowan: Chapter 2.7, Chapter 7\n",
    "* Bevington: Chapter 6\n",
    "\n",
    "## Author(s), contact(s), and dates:\n",
    "* Author: Troels C. Petersen (NBI)\n",
    "* Email:  petersen@nbi.dk\n",
    "* Date:   17th of November 2020"
   ]
  },
  {
   "cell_type": "code",
   "execution_count": null,
   "metadata": {
    "lines_to_next_cell": 2
   },
   "outputs": [],
   "source": [
    "import numpy as np                                     # Matlab like syntax for linear algebra and functions\n",
    "import matplotlib.pyplot as plt                        # Plots and figures like you know them from Matlab\n",
    "import seaborn as sns                                  # Make the plots nicer to look at\n",
    "from iminuit import Minuit                             # The actual fitting tool, better than scipy's\n",
    "import sys                                             # Module to see files and folders in directories\n",
    "from scipy import stats"
   ]
  },
  {
   "cell_type": "code",
   "execution_count": null,
   "metadata": {},
   "outputs": [],
   "source": [
    "sys.path.append('../../../External_Functions')\n",
    "from ExternalFunctions import Chi2Regression\n",
    "from ExternalFunctions import nice_string_output, add_text_to_ax # useful functions to print fit results on figure"
   ]
  },
  {
   "cell_type": "markdown",
   "metadata": {},
   "source": [
    "***\n",
    "Make sure you've read the relevant references and that you understand not only what\n",
    "the ChiSquare is, but also that it follows the ChiSquare distribution, and that the\n",
    "probability of obtaining such a ChiSquare or worse can be calculated from it.\n",
    "\n",
    "The program generates a certain number of datasets in three different ways, from\n",
    "which the Chi2 of the fit is recorded.\n",
    "***\n",
    "\n",
    "## Program settings:"
   ]
  },
  {
   "cell_type": "code",
   "execution_count": null,
   "metadata": {},
   "outputs": [],
   "source": [
    "Minuit.print_level = 0      # Don't print the fit result (many fits to do!)\n",
    "save_plots = False"
   ]
  },
  {
   "cell_type": "code",
   "execution_count": null,
   "metadata": {},
   "outputs": [],
   "source": [
    "r = np.random                         # Random generator\n",
    "r.seed(42)                            # Set a random seed (but a fixed one - more on that later.)"
   ]
  },
  {
   "cell_type": "markdown",
   "metadata": {},
   "source": [
    "## Generate and fit LINEAR data:"
   ]
  },
  {
   "cell_type": "code",
   "execution_count": null,
   "metadata": {},
   "outputs": [],
   "source": [
    "Nexp = 1000\n",
    "NpointsLin = 17"
   ]
  },
  {
   "cell_type": "code",
   "execution_count": null,
   "metadata": {},
   "outputs": [],
   "source": [
    "alpha0 = 3.6\n",
    "alpha1 = 0.3\n",
    "sigmay = 0.4"
   ]
  },
  {
   "cell_type": "code",
   "execution_count": null,
   "metadata": {},
   "outputs": [],
   "source": [
    "array_Chi2_Lin = np.zeros(Nexp)\n",
    "array_Prob_Lin = np.zeros(Nexp)"
   ]
  },
  {
   "cell_type": "code",
   "execution_count": null,
   "metadata": {
    "lines_to_next_cell": 2
   },
   "outputs": [],
   "source": [
    "# Loop over number of experiments to generate data and subsequent Chi2 values:\n",
    "for iexp in range( Nexp ) : \n",
    "\n",
    "    # Generate points:\n",
    "    xLin = np.arange(NpointsLin)+1\n",
    "    exLin = np.zeros_like(xLin)\n",
    "    yLin = alpha0 + alpha1 * xLin + r.normal(0, sigmay, NpointsLin)\n",
    "    eyLin = sigmay*np.ones_like(xLin)\n",
    "\n",
    "    def fit_function_Lin(x, alpha0, alpha1):\n",
    "        return alpha0 + alpha1*x\n",
    "    \n",
    "    chi2_object = Chi2Regression(fit_function_Lin, xLin, yLin, eyLin)\n",
    "    chi2_object.errordef = 1.0       # Chi2 definition (for Minuit)\n",
    "    minuitLin = Minuit(chi2_object, alpha0=1, alpha1=1)  \n",
    "    minuitLin.migrad();  # perform the actual fit\n",
    "\n",
    "    Chi2Lin = minuitLin.fval # the chi2 value\n",
    "    NvarLin = 2                      # Number of variables (alpha0 and alpha1)\n",
    "    NdofLin = NpointsLin - NvarLin   # Number of degrees of freedom\n",
    "    ProbLin =  stats.chi2.sf(Chi2Lin, NdofLin) # The chi2 probability given N_DOF degrees of freedom\n",
    "    \n",
    "    array_Chi2_Lin[iexp] = Chi2Lin\n",
    "    array_Prob_Lin[iexp] = ProbLin"
   ]
  },
  {
   "cell_type": "markdown",
   "metadata": {},
   "source": [
    "In order to inspect the fits, we plot the last one produced:"
   ]
  },
  {
   "cell_type": "code",
   "execution_count": null,
   "metadata": {},
   "outputs": [],
   "source": [
    "figLin, axLin = plt.subplots(figsize=(16, 8))\n",
    "axLin.errorbar(xLin, yLin, eyLin, fmt='ro', ecolor='k', elinewidth=1, capsize=2, capthick=1)\n",
    "axLin.plot(xLin, fit_function_Lin(xLin, *minuitLin.values[:]), '-r')\n",
    "\n",
    "d = {'Intercept':[minuitLin.values['alpha0'], minuitLin.errors['alpha0']],\n",
    "     'Slope':    [minuitLin.values['alpha1'], minuitLin.errors['alpha1']],\n",
    "     'Chi2':     Chi2Lin,\n",
    "     'ndf':      NdofLin,\n",
    "     'Prob':     ProbLin,\n",
    "    }\n",
    "\n",
    "text = nice_string_output(d, extra_spacing=2, decimals=3)\n",
    "add_text_to_ax(0.04, 0.95, text, axLin, fontsize=20)\n",
    "figLin.tight_layout()"
   ]
  },
  {
   "cell_type": "code",
   "execution_count": null,
   "metadata": {},
   "outputs": [],
   "source": [
    "if (save_plots) : \n",
    "    figLin.savefig(\"Chi2Dist_LinearFit.pdf\")"
   ]
  },
  {
   "cell_type": "markdown",
   "metadata": {},
   "source": [
    "## Generate and fit OSCILLATING data:"
   ]
  },
  {
   "cell_type": "code",
   "execution_count": null,
   "metadata": {},
   "outputs": [],
   "source": [
    "NpointsOsc = 19\n",
    "mean  = 1.6\n",
    "amp   = 3.3\n",
    "omega = 0.7\n",
    "phase = 0.3\n",
    "sigmay = 0.5"
   ]
  },
  {
   "cell_type": "code",
   "execution_count": null,
   "metadata": {
    "lines_to_next_cell": 2
   },
   "outputs": [],
   "source": [
    "# Again we record the resulting Chi2 values and probabilities:\n",
    "array_Chi2_Osc = np.zeros(Nexp)\n",
    "array_Prob_Osc = np.zeros(Nexp)"
   ]
  },
  {
   "cell_type": "code",
   "execution_count": null,
   "metadata": {
    "lines_to_next_cell": 2
   },
   "outputs": [],
   "source": [
    "# Loop over number of experiments to generate data and subsequent Chi2 values:\n",
    "for iexp in range( Nexp ) : \n",
    "\n",
    "    # Generate points:\n",
    "    xOsc = np.arange(NpointsOsc)+1\n",
    "    exOsc = np.zeros_like(xLin)\n",
    "    yOsc = mean + amp*np.cos(omega*xOsc + phase) + r.normal(0, sigmay, NpointsOsc)\n",
    "    eyOsc = sigmay*np.ones_like(xOsc)\n",
    "\n",
    "    # Fit points:\n",
    "    def fit_function_Osc(x, mean, amp, omega, phase):\n",
    "        return mean + amp*np.cos(omega*x + phase)\n",
    "    \n",
    "    chi2_object = Chi2Regression(fit_function_Osc, xOsc, yOsc, eyOsc)\n",
    "    chi2_object.errordef = 1.0       # Chi2 definition (for Minuit)\n",
    "    minuitOsc = Minuit(chi2_object, mean=mean, amp=amp, omega=omega, phase=phase)  \n",
    "    minuitOsc.migrad();             # Perform the actual fit\n",
    "\n",
    "    Chi2Osc = minuitOsc.fval        # Get the chi2 value\n",
    "    NvarOsc = 4                     # Number of variables (mean, amp, omega, phase)\n",
    "    NdofOsc = NpointsOsc - NvarOsc  # Number of degrees of freedom    \n",
    "    ProbOsc =  stats.chi2.sf(Chi2Osc, NdofOsc) # The chi2 probability given N degrees of freedom, Ndof\n",
    "    \n",
    "    array_Chi2_Osc[iexp] = Chi2Osc\n",
    "    array_Prob_Osc[iexp] = ProbOsc"
   ]
  },
  {
   "cell_type": "code",
   "execution_count": null,
   "metadata": {},
   "outputs": [],
   "source": [
    "figOsc, axOsc = plt.subplots(figsize=(16, 8))\n",
    "axOsc.errorbar(xOsc, yOsc, eyOsc, fmt='ro', ecolor='k', elinewidth=1, capsize=2, capthick=1)\n",
    "xaxis = np.linspace(min(xOsc), max(xOsc), 1000)\n",
    "axOsc.plot(xaxis, fit_function_Osc(xaxis, *minuitOsc.values[:]), '-r')\n",
    "\n",
    "d = {'Mean':     [minuitOsc.values['mean'], minuitOsc.errors['mean']],\n",
    "     'Amplitude':[minuitOsc.values['amp'], minuitOsc.errors['amp']],\n",
    "     'Omega':    [minuitOsc.values['omega'], minuitOsc.errors['omega']],\n",
    "     'Phase':    [minuitOsc.values['phase'], minuitOsc.errors['phase']],\n",
    "     'Chi2':     Chi2Osc,\n",
    "     'ndf':      NdofOsc,\n",
    "     'Prob':     ProbOsc,\n",
    "    }\n",
    "\n",
    "text = nice_string_output(d, extra_spacing=2, decimals=3)\n",
    "add_text_to_ax(0.08, 0.95, text, axOsc, fontsize=16)\n",
    "figOsc.tight_layout()"
   ]
  },
  {
   "cell_type": "code",
   "execution_count": null,
   "metadata": {},
   "outputs": [],
   "source": [
    "if (save_plots) : \n",
    "    figOsc.savefig(\"Chi2Dist_OscillationFit.pdf\")"
   ]
  },
  {
   "cell_type": "markdown",
   "metadata": {},
   "source": [
    "## Generate and fit EXPONENTIAL binned data:"
   ]
  },
  {
   "cell_type": "code",
   "execution_count": null,
   "metadata": {},
   "outputs": [],
   "source": [
    "NpointsExp = 1000   # Put this number of points (exponentially distributed) in each histogram.\n",
    "NbinsExp = 17       # Decide on the number of bins (for a reason!)"
   ]
  },
  {
   "cell_type": "code",
   "execution_count": null,
   "metadata": {},
   "outputs": [],
   "source": [
    "tau = 3.14           # I'm just picking a random lifetime..."
   ]
  },
  {
   "cell_type": "code",
   "execution_count": null,
   "metadata": {},
   "outputs": [],
   "source": [
    "array_Chi2_Exp = np.zeros(Nexp)\n",
    "array_Prob_Exp = np.zeros(Nexp)"
   ]
  },
  {
   "cell_type": "code",
   "execution_count": null,
   "metadata": {
    "lines_to_next_cell": 2
   },
   "outputs": [],
   "source": [
    "# Define an exponential fit function, which includes a normalisation:\n",
    "def fit_function_Exp(x, tau, N) :\n",
    "    return N / tau * np.exp(- x / tau)"
   ]
  },
  {
   "cell_type": "code",
   "execution_count": null,
   "metadata": {
    "lines_to_next_cell": 2
   },
   "outputs": [],
   "source": [
    "# Loop over number of experiments to generate data and subsequent Chi2 values:\n",
    "for iexp in range( Nexp ) : \n",
    "    \n",
    "    dataExp = r.exponential(tau, NpointsExp)\n",
    "\n",
    "    yExp, xExp_edges = np.histogram(dataExp, bins=NbinsExp, range=(0, NbinsExp))\n",
    "    xExp = (xExp_edges[1:] + xExp_edges[:-1])/2\n",
    "    syExp = np.sqrt(yExp)\n",
    "    \n",
    "    chi2_object = Chi2Regression(fit_function_Exp, xExp[yExp>0], yExp[yExp>0], syExp[yExp>0])\n",
    "    chi2_object.errordef = 1.0       # Chi2 definition (for Minuit)\n",
    "    minuitExp = Minuit(chi2_object, tau = tau, N=NpointsExp)  \n",
    "    minuitExp.migrad();  # perform the actual fit\n",
    "\n",
    "    Chi2Exp = minuitExp.fval\n",
    "    NvarExp = 2                    # Number of variables (N and tau)\n",
    "    NdofExp = NbinsExp - NvarExp   # Number of degrees of freedom\n",
    "    ProbExp =  stats.chi2.sf(Chi2Exp, NdofExp) # The chi2 probability given N_DOF degrees of freedom\n",
    "    \n",
    "    array_Chi2_Exp[iexp] = Chi2Exp\n",
    "    array_Prob_Exp[iexp] = ProbExp"
   ]
  },
  {
   "cell_type": "code",
   "execution_count": null,
   "metadata": {},
   "outputs": [],
   "source": [
    "figExp, axExp = plt.subplots(figsize=(16, 8))\n",
    "axExp.hist(dataExp, NbinsExp, range=(0, NbinsExp), histtype='step')\n",
    "x_axis = np.linspace(0, NbinsExp, 1000)\n",
    "axExp.plot(x_axis, fit_function_Exp_Ext(x_axis, *minuitExp.values[:]), '-r') \n",
    "\n",
    "d = {'N events': [minuitExp.values['N'], minuitExp.errors['N']],\n",
    "     'Lifetime': [minuitExp.values['tau'], minuitExp.errors['tau']],\n",
    "     'Chi2':     Chi2Exp,\n",
    "     'ndf':      NdofExp,\n",
    "     'Prob':     ProbExp,\n",
    "    }\n",
    "\n",
    "text = nice_string_output(d, extra_spacing=2, decimals=3)\n",
    "add_text_to_ax(0.62, 0.95, text, axExp, fontsize=20)\n",
    "figExp.tight_layout()"
   ]
  },
  {
   "cell_type": "code",
   "execution_count": null,
   "metadata": {
    "lines_to_next_cell": 2
   },
   "outputs": [],
   "source": [
    "if (save_plots) : \n",
    "    figExp.savefig(\"Chi2Dist_ExponentialFit.pdf\")"
   ]
  },
  {
   "cell_type": "markdown",
   "metadata": {},
   "source": [
    "The above histogram does not show us the uncertainty used in each bin, which the $\\chi^2$ needs for its calculation. We have discussed what error to use, and will surely be doing so more in the course, but below is code that gives a plot showing points and errors instead of a \"bare\" histogram. "
   ]
  },
  {
   "cell_type": "code",
   "execution_count": null,
   "metadata": {},
   "outputs": [],
   "source": [
    "# Calculating points and errors:\n",
    "y, bin_edges = np.histogram(dataExp, bins=NbinsExp, range=(0, NbinsExp))\n",
    "x = 0.5*(bin_edges[:-1] + bin_edges[1:])\n",
    "sy = np.sqrt(y)                             # Note: Ask yourself (here on in question 4 below) where these errors come from?\n",
    "\n",
    "# Plotting the result of the above!\n",
    "fig, ax = plt.subplots(figsize=(16,8))\n",
    "hist1 = ax.errorbar(x, y, sy, fmt='.', label='Exponential distribution')\n",
    "\n",
    "# Plot the function we fitted on top? That is a simple exercise for you!"
   ]
  },
  {
   "cell_type": "markdown",
   "metadata": {},
   "source": [
    "# Considering repeated experiments/fits and resulting $\\chi^2$ distributions:"
   ]
  },
  {
   "cell_type": "code",
   "execution_count": null,
   "metadata": {},
   "outputs": [],
   "source": [
    "# If there have been more than one experiment, then make another white canvas:\n",
    "if (Nexp > 1) :\n",
    "    \n",
    "    xaxis = np.linspace(0, 50, 1000)\n",
    "    yaxis = stats.chi2.pdf(xaxis, 15)   # This is the Chi2 distribution with 15 DOF.\n",
    "    \n",
    "    array_Chi2 = [array_Chi2_Lin, array_Chi2_Osc, array_Chi2_Exp]\n",
    "\n",
    "    fig2, ax2 = plt.subplots(ncols=3, figsize=(16, 6))\n",
    "    for i in range(3):\n",
    "        ax2[i].hist(array_Chi2[i], 50, range=(0, 50), histtype='step', density=True)    # Plot normalised!\n",
    "        ax2[i].plot(xaxis, yaxis)\n",
    "    \n",
    "        # Here, we \"just\" put in quick remarks (note the \"code\"-like way of defining format. Do you understand it?):\n",
    "        string  = f\"Entries {len(array_Chi2[i]):7d}\\n\"\n",
    "        string += f\"Mean {array_Chi2[i].mean():10.3f}\\n\"\n",
    "        string += f\"STD {array_Chi2[i].std(ddof=1):11.3f}\"\n",
    "        ax2[i].text(0.6, 0.95, string, family='monospace', transform=ax2[i].transAxes, fontsize=10, verticalalignment='top')\n",
    "        \n",
    "    if (save_plots) : \n",
    "        fig2.savefig(\"Chi2Dist_SeveralCases.pdf\")"
   ]
  },
  {
   "cell_type": "markdown",
   "metadata": {},
   "source": [
    "# Questions:\n",
    " 1. Why have I chosen the three examples to have 17 points, 19 points and 17 bins?\n",
    "    Hint: What is the number of degrees of freedom in each of the three cases?\n",
    "\n",
    " 2. In the example of the linear fit, what number of points lies outside +-1 sigma?\n",
    "    Is that a reasonable number?\n",
    "\n",
    " 3. In the oscillatory case, try to drop the part were you set the initial parameters\n",
    "    or simply set them to zero, and see how well the fit goes, when it does not\n",
    "    have good starting values. How often does it get a good fit result?\n",
    "\n",
    " 4. In the exponential fit, where do the uncertainties come from? And is the fit\n",
    "    reasonable?\n",
    "    \n",
    "\n",
    "### Advanced questions:\n",
    " 5. Why does the last of the three Chi2 distributions not fit quite?\n",
    "    Try to change the number of generated points to 100 instead of 1000,\n",
    "    and/or change the lifetime to tau=2.1. Does this increase the mismatch\n",
    "    of the Chi2 distribution. Does that give you a hint why?\n",
    "    "
   ]
  },
  {
   "cell_type": "code",
   "execution_count": null,
   "metadata": {},
   "outputs": [],
   "source": []
  }
 ],
 "metadata": {
  "executable": "/usr/bin/env python",
  "kernelspec": {
   "display_name": "Python 3",
   "language": "python",
   "name": "python3"
  },
  "language_info": {
   "codemirror_mode": {
    "name": "ipython",
    "version": 3
   },
   "file_extension": ".py",
   "mimetype": "text/x-python",
   "name": "python",
   "nbconvert_exporter": "python",
   "pygments_lexer": "ipython3",
   "version": "3.7.6"
  },
  "main_language": "python"
 },
 "nbformat": 4,
 "nbformat_minor": 2
}
