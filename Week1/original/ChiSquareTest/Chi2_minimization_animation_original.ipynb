{
 "cells": [
  {
   "cell_type": "markdown",
   "metadata": {
    "slideshow": {
     "slide_type": "slide"
    }
   },
   "source": [
    "# Minimization Animation Example\n",
    "\n",
    "Small example of how Minuit tries to find the minimum in a parameter space. In this notebook we try to interactively fit a straight line (with no offset) to data while seeing what the $\\chi^2$-value is. \n",
    "\n",
    "### Authors: \n",
    "- Christian Michelsen (Niels Bohr Institute)\n",
    "- Troels Petersen (Niels Bohr Institute)\n",
    "\n",
    "### Date:    \n",
    "- 11-11-2021 (latest update)\n",
    "\n",
    "***"
   ]
  },
  {
   "cell_type": "code",
   "execution_count": 1,
   "metadata": {
    "slideshow": {
     "slide_type": "slide"
    }
   },
   "outputs": [],
   "source": [
    "import numpy as np\n",
    "import matplotlib.pyplot as plt\n",
    "\n",
    "from ipywidgets import interactive   # Allows us to use interactive plotting capabilities in Jupyter Notebooks"
   ]
  },
  {
   "cell_type": "markdown",
   "metadata": {
    "slideshow": {
     "slide_type": "fragment"
    }
   },
   "source": [
    "We define the random seed and the true slope of the fit:"
   ]
  },
  {
   "cell_type": "code",
   "execution_count": 2,
   "metadata": {
    "slideshow": {
     "slide_type": "fragment"
    }
   },
   "outputs": [],
   "source": [
    "r = np.random\n",
    "r.seed(42)\n",
    "\n",
    "a_true = 1.5"
   ]
  },
  {
   "cell_type": "markdown",
   "metadata": {
    "slideshow": {
     "slide_type": "slide"
    }
   },
   "source": [
    "We define the fitting function, a linear fit wit no offset, and a function which calculates the $\\chi^2$-value. Both are one-liners, but is still used to get into the habit of rewriting code into smaller submodules that can be reused several times:"
   ]
  },
  {
   "cell_type": "code",
   "execution_count": 3,
   "metadata": {
    "slideshow": {
     "slide_type": "fragment"
    }
   },
   "outputs": [],
   "source": [
    "def linear(x, a):\n",
    "    y = a*x\n",
    "    return y\n",
    "\n",
    "def calc_chi2(yhat, y, sy):\n",
    "    chi2 = np.sum((yhat-y)**2 / sy**2)\n",
    "    return chi2"
   ]
  },
  {
   "cell_type": "markdown",
   "metadata": {
    "slideshow": {
     "slide_type": "subslide"
    }
   },
   "source": [
    "We define the input data; `x` and `y` with gaussian errors added to them and the uncertainties of `y`, `sy`:"
   ]
  },
  {
   "cell_type": "code",
   "execution_count": 4,
   "metadata": {
    "slideshow": {
     "slide_type": "fragment"
    }
   },
   "outputs": [],
   "source": [
    "x = np.linspace(0, 5, 10) \n",
    "x += r.normal(0, 0.1, len(x))\n",
    "\n",
    "y = linear(x, a_true)\n",
    "y += r.normal(0, 0.5, len(y))\n",
    "\n",
    "sy = 1 * np.ones_like(y)"
   ]
  },
  {
   "cell_type": "markdown",
   "metadata": {
    "slideshow": {
     "slide_type": "subslide"
    }
   },
   "source": [
    "Below is where the magic happens. We define `animate_linear_chi2_fit` to be a function which takes a single input, `p0`, and plots the line with this given slope together with the data points. It also plots the $\\chi^2$-value as a function of `p0`. We input the function to the iPython widget `interactive` which we loaded initially and set the range of `p0` and finally we display it in the last line:"
   ]
  },
  {
   "cell_type": "code",
   "execution_count": null,
   "metadata": {
    "slideshow": {
     "slide_type": "fragment"
    }
   },
   "outputs": [],
   "source": [
    "p0_list = []\n",
    "chi2_list = [] "
   ]
  },
  {
   "cell_type": "code",
   "execution_count": 5,
   "metadata": {
    "slideshow": {
     "slide_type": "subslide"
    }
   },
   "outputs": [],
   "source": [
    "def animate_linear_chi2_fit(p0=0):\n",
    "    \n",
    "    # Create empty figure with 2 subplots\n",
    "    fig, ax = plt.subplots(ncols=2, figsize=(18, 8))\n",
    "\n",
    "    # Calculate predicted y-values and chi2 given the current guess of p0\n",
    "    yhat = linear(x, p0)\n",
    "    chi2 = calc_chi2(yhat, y, sy)\n",
    "    \n",
    "    # Append the current value of p0 and chi2 to lists\n",
    "    p0_list.append(p0)\n",
    "    chi2_list.append(chi2)\n",
    "    \n",
    "    # Define an x- and y-axis (only 2 points are needed for linear case)\n",
    "    xaxis = np.linspace(-1, 6, 2)\n",
    "    yaxis = linear(xaxis, p0)\n",
    "    \n",
    "    # Plot the data, the linear function given p0:\n",
    "    ax[0].errorbar(x, y, sy, fmt='.', label='Data Points')\n",
    "    ax[0].plot(xaxis, yaxis, '-', label='Fit')\n",
    "    ax[0].legend(loc='upper left');\n",
    "    ax[0].set(xlim=(-1, 6), ylim=(-2, 10), xlabel='x', ylabel='y', title='Plot of data points and fit')\n",
    "    \n",
    "    # Plot the list of previous p0-values and chi2-values:\n",
    "    ax[1].plot(p0_list, chi2_list, 'o', label='Chi2-values')\n",
    "    ax[1].plot(p0, chi2, 'o', label='Current Chi2-value')\n",
    "    ax[1].legend(loc='upper left');\n",
    "    ax[1].text(1.5, 500, fr'$\\chi^2 = {chi2:.1f}$', fontsize=14, ha='center')\n",
    "    ax[1].set(xlim=(-2.1, 5.1), ylim=(-100, 1000), xlabel='p0', ylabel=r'$\\chi^2$', title='Chi-square plot as a function of p0')\n",
    "\n",
    "    fig.tight_layout()"
   ]
  },
  {
   "cell_type": "code",
   "execution_count": 6,
   "metadata": {
    "slideshow": {
     "slide_type": "slide"
    }
   },
   "outputs": [
    {
     "data": {
      "application/vnd.jupyter.widget-view+json": {
       "model_id": "b7c55e9f812041d8be6e5960b7ad78b6",
       "version_major": 2,
       "version_minor": 0
      },
      "text/plain": [
       "interactive(children=(FloatSlider(value=0.0, description='p0', max=5.0, min=-2.0, step=0.02), Output()), _dom_…"
      ]
     },
     "metadata": {},
     "output_type": "display_data"
    }
   ],
   "source": [
    "# Make the above function interactive with p0 given in the range from -2 to 5 in steps 0.02\n",
    "interactive_plot = interactive(animate_linear_chi2_fit, p0=(-2.0, 5.0, 0.02))\n",
    "interactive_plot"
   ]
  },
  {
   "cell_type": "markdown",
   "metadata": {
    "slideshow": {
     "slide_type": "subslide"
    }
   },
   "source": [
    "##### Observation:\n",
    "\n",
    "Note how the $\\chi^2$ value is minimal at about the correct value, and forms a parabola on either side of this best fit value. This is very general (for well behaved problems!), and the uncertainty on the fit parameter can be determined from this parabola (or the curve in general), as the uncertainty is the distance to the point, where the $\\chi^2$ value has increased 1.\n",
    "\n",
    "This is more complicated with several correlated variables, which is why we are happy to have a minimizer like Minuit, but in principle it is the same."
   ]
  }
 ],
 "metadata": {
  "celltoolbar": "Slideshow",
  "kernelspec": {
   "display_name": "Python 3",
   "language": "python",
   "name": "python3"
  },
  "language_info": {
   "codemirror_mode": {
    "name": "ipython",
    "version": 3
   },
   "file_extension": ".py",
   "mimetype": "text/x-python",
   "name": "python",
   "nbconvert_exporter": "python",
   "pygments_lexer": "ipython3",
   "version": "3.7.6"
  }
 },
 "nbformat": 4,
 "nbformat_minor": 2
}
