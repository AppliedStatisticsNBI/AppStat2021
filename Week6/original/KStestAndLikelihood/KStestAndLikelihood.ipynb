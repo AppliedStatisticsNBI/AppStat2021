{
 "cells": [
  {
   "cell_type": "markdown",
   "id": "8f5b707d",
   "metadata": {},
   "source": [
    "# Quantifying a goodness of fit using unbinned likelihood and KS-test\n",
    "\n",
    "So far in the course we have only used the Chi-squared method to evaluate the goodness of fit. As you recall, for a PDF we could obtain the best parameter values using the unbinned likelihood - but whether it was a good fit we had no way of quantifying. In this excersize we:\n",
    "1. Find the best parameters using the unbinned likelihood.\n",
    "2. Use these parameters to obtain a probability using the KS-test.\n",
    "\n",
    "In this excersize we use simulated diffusion as our model system to apply the method on. \n",
    "\n",
    "### References:\n",
    "- Lectures on Hypothesis testing\n",
    "\n",
    "### Authors: \n",
    "- Mathias L. Heltberg (Niels Bohr Institute)\n",
    "\n",
    "### Date:    \n",
    "- 29-12-2021 (latest update)\n",
    "\n",
    "***"
   ]
  },
  {
   "cell_type": "markdown",
   "id": "1725e543",
   "metadata": {},
   "source": [
    "As always we will include a collection of libraries (Standard)"
   ]
  },
  {
   "cell_type": "code",
   "execution_count": 1,
   "id": "ac830289",
   "metadata": {},
   "outputs": [],
   "source": [
    "import numpy as np                                     # Matlab like syntax for linear algebra and functions\n",
    "from numpy.linalg import matrix_power                  # This is to raise matrices to powers\n",
    "import matplotlib.pyplot as plt                        # Plots and figures like you know them from Matlab\n",
    "import seaborn as sns                                  # Make the plots nicer to look at\n",
    "from iminuit import Minuit                             # The actual fitting tool, better than scipy's\n",
    "import sys                                             # Module to see files and folders in directories\n",
    "from scipy import stats\n",
    "from scipy.stats import ks_2samp"
   ]
  },
  {
   "cell_type": "markdown",
   "id": "bdddc593",
   "metadata": {},
   "source": [
    "Naturally we will here need a random generator:"
   ]
  },
  {
   "cell_type": "code",
   "execution_count": 2,
   "id": "3274c834",
   "metadata": {},
   "outputs": [],
   "source": [
    "r = np.random # Random generator\n",
    "r.seed(42)    # Set a random seed (but a fixed one)"
   ]
  },
  {
   "cell_type": "markdown",
   "id": "132467de",
   "metadata": {},
   "source": [
    "We now simulate a diffusing particle in 2 dimensions. The PDF is given by:\n",
    "\n",
    "p(r) = r/(2Dt)*exp(-r^2/(4Dt))\n",
    "\n",
    "We simulate 1000 of these translocations:\n"
   ]
  },
  {
   "cell_type": "code",
   "execution_count": 137,
   "id": "11f79834",
   "metadata": {},
   "outputs": [],
   "source": [
    "def Diffusion(rd,sig):\n",
    "    return(rd/(sig)*np.exp(-rd**2/(2*sig)))\n",
    "\n",
    "sig = 1.0;\n",
    "sig_Cheat = 10.0;\n",
    "pcheat = 0.1\n",
    "Npoints = 100\n",
    "r1 = np.zeros(Npoints)\n",
    "for i in range(Npoints):\n",
    "    if (np.random.random() <= 1-pcheat):\n",
    "        x = np.random.normal()*np.sqrt(sig)\n",
    "        y = np.random.normal()*np.sqrt(sig)\n",
    "    else:\n",
    "        x = np.random.normal()*np.sqrt(sig_Cheat)\n",
    "        y = np.random.normal()*np.sqrt(sig_Cheat)\n",
    "    r1[i] = np.sqrt(x**2 + y**2)"
   ]
  },
  {
   "cell_type": "markdown",
   "id": "f4ae590d",
   "metadata": {},
   "source": [
    "And we plot this:"
   ]
  },
  {
   "cell_type": "code",
   "execution_count": 138,
   "id": "804eae36",
   "metadata": {},
   "outputs": [
    {
     "data": {
      "text/plain": [
       "Text(0, 0.5, 'PDF value')"
      ]
     },
     "execution_count": 138,
     "metadata": {},
     "output_type": "execute_result"
    },
    {
     "data": {
      "image/png": "[encoded data removed]",
      "text/plain": [
       "<Figure size 720x432 with 1 Axes>"
      ]
     },
     "metadata": {
      "needs_background": "light"
     },
     "output_type": "display_data"
    }
   ],
   "source": [
    "plt.figure(figsize=(10,6), tight_layout=True)\n",
    "bins = np.linspace(0,np.max(r1)*1.1,20)\n",
    "plt.hist(r1, bins=bins, color='b', linewidth=4,density=True)\n",
    "plt.title('Distribution of steps')\n",
    "plt.xlabel('Step size')\n",
    "plt.ylabel('PDF value')"
   ]
  },
  {
   "cell_type": "markdown",
   "id": "5532ae19",
   "metadata": {},
   "source": [
    "Lets use the unbinned likelihood to determine the best parameters:"
   ]
  },
  {
   "cell_type": "code",
   "execution_count": 150,
   "id": "d344daad",
   "metadata": {},
   "outputs": [],
   "source": [
    "def min_Diff(sig):\n",
    "    A = Diffusion(r1,sig)\n",
    "    return np.sum(-np.log(A))\n"
   ]
  },
  {
   "cell_type": "code",
   "execution_count": 140,
   "id": "7e2e648d",
   "metadata": {},
   "outputs": [
    {
     "name": "stdout",
     "output_type": "stream",
     "text": [
      "sig =  2.006667501324922 , error =  0.20048244358883285\n"
     ]
    }
   ],
   "source": [
    "m_nll = Minuit(min_Diff,sig=1.0)\n",
    "m_nll.errordef = 0.5\n",
    "m_nll.migrad()\n",
    "print(\"sig = \",m_nll.values[0],\", error = \",m_nll.errors[0])\n"
   ]
  },
  {
   "cell_type": "code",
   "execution_count": 141,
   "id": "3239b6f7",
   "metadata": {},
   "outputs": [
    {
     "data": {
      "text/plain": [
       "Text(0, 0.5, 'PDF value')"
      ]
     },
     "execution_count": 141,
     "metadata": {},
     "output_type": "execute_result"
    },
    {
     "data": {
      "image/png": "[encoded data removed]",
      "text/plain": [
       "<Figure size 720x432 with 1 Axes>"
      ]
     },
     "metadata": {
      "needs_background": "light"
     },
     "output_type": "display_data"
    }
   ],
   "source": [
    "plt.figure(figsize=(10,6), tight_layout=True)\n",
    "bins = np.linspace(0,np.max(r1)*1.1,20)\n",
    "plt.hist(r1, bins=bins, color='b', linewidth=4,density=True)\n",
    "plt.plot(np.linspace(0,np.max(r1),20),Diffusion(np.linspace(0,np.max(r1),20),m_nll.values[0]),'--r')\n",
    "plt.title('Distribution of steps')\n",
    "plt.xlabel('Step size')\n",
    "plt.ylabel('PDF value')"
   ]
  },
  {
   "cell_type": "markdown",
   "id": "49b1c9ac",
   "metadata": {},
   "source": [
    "This means that now we can simulate the process again with the best value for sigma (note this might take some seconds to sinulate):"
   ]
  },
  {
   "cell_type": "code",
   "execution_count": 155,
   "id": "6681e033",
   "metadata": {},
   "outputs": [
    {
     "name": "stdout",
     "output_type": "stream",
     "text": [
      "0\n",
      "10\n",
      "20\n",
      "30\n",
      "40\n",
      "50\n",
      "60\n",
      "70\n",
      "80\n",
      "90\n"
     ]
    }
   ],
   "source": [
    "sig = m_nll.values[0];\n",
    "Ntest = 100\n",
    "pstat = np.zeros(Ntest)\n",
    "Nstep = 10000\n",
    "click = 0;\n",
    "for test in range(Ntest):\n",
    "    if (test >= click*10):\n",
    "        print(test)\n",
    "        click+=1\n",
    "    r2 = np.zeros(Nstep)\n",
    "    for i in range(Nstep):\n",
    "        x = np.random.normal()*np.sqrt(sig)\n",
    "        y = np.random.normal()*np.sqrt(sig)\n",
    "        r2[i] = np.sqrt(x**2 + y**2)\n",
    "    stat,pval = ks_2samp(r1, r2)\n",
    "    pstat[test] = pval\n"
   ]
  },
  {
   "cell_type": "code",
   "execution_count": 152,
   "id": "fe713dd9",
   "metadata": {},
   "outputs": [
    {
     "data": {
      "text/plain": [
       "Text(0, 0.5, 'PDF value')"
      ]
     },
     "execution_count": 152,
     "metadata": {},
     "output_type": "execute_result"
    },
    {
     "data": {
      "image/png": "[encoded data removed]",
      "text/plain": [
       "<Figure size 720x432 with 1 Axes>"
      ]
     },
     "metadata": {
      "needs_background": "light"
     },
     "output_type": "display_data"
    }
   ],
   "source": [
    "plt.figure(figsize=(10,6), tight_layout=True)\n",
    "bins = np.linspace(0,1,20)\n",
    "plt.hist(pstat, bins=bins, color='g', linewidth=4,density=True)\n",
    "plt.title('Distribution of p-values from KS test')\n",
    "plt.xlabel('p value')\n",
    "plt.ylabel('PDF value')"
   ]
  },
  {
   "cell_type": "markdown",
   "id": "5139c6b1",
   "metadata": {},
   "source": [
    "From this we can extract if our unbinned likelihood parameters has a good p-value."
   ]
  },
  {
   "cell_type": "code",
   "execution_count": 153,
   "id": "fe8f56cf",
   "metadata": {},
   "outputs": [
    {
     "data": {
      "text/plain": [
       "6.613294213830834e-07"
      ]
     },
     "execution_count": 153,
     "metadata": {},
     "output_type": "execute_result"
    }
   ],
   "source": [
    "np.mean(pstat)"
   ]
  },
  {
   "cell_type": "markdown",
   "id": "2adb92f5",
   "metadata": {},
   "source": [
    " We can compare the method to the Chi-square:"
   ]
  },
  {
   "cell_type": "code",
   "execution_count": 148,
   "id": "4b9e7bbb",
   "metadata": {},
   "outputs": [
    {
     "data": {
      "text/html": [
       "<table>\n",
       "    <tr>\n",
       "        <th colspan=\"5\" style=\"text-align:center\" title=\"Minimizer\"> Migrad </th>\n",
       "    </tr>\n",
       "    <tr>\n",
       "        <td colspan=\"2\" style=\"text-align:left\" title=\"Minimum value of function\"> FCN = 13.24 </td>\n",
       "        <td colspan=\"3\" style=\"text-align:center\" title=\"No. of function evaluations in last call and total number\"> Nfcn = 30 </td>\n",
       "    </tr>\n",
       "    <tr>\n",
       "        <td colspan=\"2\" style=\"text-align:left\" title=\"Estimated distance to minimum and goal\"> EDM = 5.89e-09 (Goal: 0.0002) </td>\n",
       "        <td colspan=\"3\" style=\"text-align:center\" title=\"No. of gradient evaluations in last call and total number\">  </td>\n",
       "    </tr>\n",
       "    <tr>\n",
       "        <td colspan=\"2\" style=\"text-align:center;background-color:#92CCA6;color:black\"> Valid Minimum </td>\n",
       "        <td colspan=\"3\" style=\"text-align:center;background-color:#92CCA6;color:black\"> No Parameters at limit </td>\n",
       "    </tr>\n",
       "    <tr>\n",
       "        <td colspan=\"2\" style=\"text-align:center;background-color:#92CCA6;color:black\"> Below EDM threshold (goal x 10) </td>\n",
       "        <td colspan=\"3\" style=\"text-align:center;background-color:#92CCA6;color:black\"> Below call limit </td>\n",
       "    </tr>\n",
       "    <tr>\n",
       "        <td style=\"text-align:center;background-color:#92CCA6;color:black\"> Covariance </td>\n",
       "        <td style=\"text-align:center;background-color:#92CCA6;color:black\"> Hesse ok </td>\n",
       "        <td style=\"text-align:center;background-color:#92CCA6;color:black\" title=\"Is covariance matrix accurate?\"> Accurate </td>\n",
       "        <td style=\"text-align:center;background-color:#92CCA6;color:black\" title=\"Is covariance matrix positive definite?\"> Pos. def. </td>\n",
       "        <td style=\"text-align:center;background-color:#92CCA6;color:black\" title=\"Was positive definiteness enforced by Minuit?\"> Not forced </td>\n",
       "    </tr>\n",
       "</table><table>\n",
       "    <tr>\n",
       "        <td></td>\n",
       "        <th title=\"Variable name\"> Name </th>\n",
       "        <th title=\"Value of parameter\"> Value </th>\n",
       "        <th title=\"Hesse error\"> Hesse Error </th>\n",
       "        <th title=\"Minos lower error\"> Minos Error- </th>\n",
       "        <th title=\"Minos upper error\"> Minos Error+ </th>\n",
       "        <th title=\"Lower limit of the parameter\"> Limit- </th>\n",
       "        <th title=\"Upper limit of the parameter\"> Limit+ </th>\n",
       "        <th title=\"Is the parameter fixed in the fit\"> Fixed </th>\n",
       "    </tr>\n",
       "    <tr>\n",
       "        <th> 0 </th>\n",
       "        <td> sig </td>\n",
       "        <td> 0.86 </td>\n",
       "        <td> 0.09 </td>\n",
       "        <td>  </td>\n",
       "        <td>  </td>\n",
       "        <td>  </td>\n",
       "        <td>  </td>\n",
       "        <td>  </td>\n",
       "    </tr>\n",
       "</table><table>\n",
       "    <tr>\n",
       "        <td></td>\n",
       "        <th> sig </th>\n",
       "    </tr>\n",
       "    <tr>\n",
       "        <th> sig </th>\n",
       "        <td> 0.00856 </td>\n",
       "    </tr>\n",
       "</table>"
      ],
      "text/plain": [
       "┌─────────────────────────────────────────────────────────────────────────┐\n",
       "│                                Migrad                                   │\n",
       "├──────────────────────────────────┬──────────────────────────────────────┤\n",
       "│ FCN = 13.24                      │              Nfcn = 30               │\n",
       "│ EDM = 5.89e-09 (Goal: 0.0002)    │                                      │\n",
       "├──────────────────────────────────┼──────────────────────────────────────┤\n",
       "│          Valid Minimum           │        No Parameters at limit        │\n",
       "├──────────────────────────────────┼──────────────────────────────────────┤\n",
       "│ Below EDM threshold (goal x 10)  │           Below call limit           │\n",
       "├───────────────┬──────────────────┼───────────┬─────────────┬────────────┤\n",
       "│  Covariance   │     Hesse ok     │ Accurate  │  Pos. def.  │ Not forced │\n",
       "└───────────────┴──────────────────┴───────────┴─────────────┴────────────┘\n",
       "┌───┬──────┬───────────┬───────────┬────────────┬────────────┬─────────┬─────────┬───────┐\n",
       "│   │ Name │   Value   │ Hesse Err │ Minos Err- │ Minos Err+ │ Limit-  │ Limit+  │ Fixed │\n",
       "├───┼──────┼───────────┼───────────┼────────────┼────────────┼─────────┼─────────┼───────┤\n",
       "│ 0 │ sig  │   0.86    │   0.09    │            │            │         │         │       │\n",
       "└───┴──────┴───────────┴───────────┴────────────┴────────────┴─────────┴─────────┴───────┘\n",
       "┌─────┬─────────┐\n",
       "│     │     sig │\n",
       "├─────┼─────────┤\n",
       "│ sig │ 0.00856 │\n",
       "└─────┴─────────┘"
      ]
     },
     "execution_count": 148,
     "metadata": {},
     "output_type": "execute_result"
    }
   ],
   "source": [
    "yExp, xExp_edges = np.histogram(r1, bins=20, range=(0, np.max(r1)))\n",
    "xExp = (xExp_edges[1:] + xExp_edges[:-1])/2\n",
    "dx = xExp[1]-xExp[0]\n",
    "syExp = np.sqrt(yExp)\n",
    "yNorm = yExp/np.sum(dx*yExp)\n",
    "syNorm = syExp/np.sum(dx*yExp)\n",
    "xch = xExp[yExp>0]\n",
    "ych = yNorm[yNorm>0]\n",
    "sych = syNorm[yNorm>0]\n",
    "\n",
    "def chi2_owncalc(sig) :\n",
    "    y_fit = Diffusion(xch,sig)\n",
    "    chi2 = np.sum(((ych - y_fit) / sych)**2)\n",
    "    return chi2   \n",
    "Minuit.print_level = 1 \n",
    "miChi2 = Minuit(chi2_owncalc, sig = m_nll.values[0])  \n",
    "miChi2.errordef = 1.0 \n",
    "miChi2.migrad()  \n",
    "\n"
   ]
  },
  {
   "cell_type": "code",
   "execution_count": 149,
   "id": "854a4bf3",
   "metadata": {},
   "outputs": [
    {
     "data": {
      "text/plain": [
       "[<matplotlib.lines.Line2D at 0x185cd0370>]"
      ]
     },
     "execution_count": 149,
     "metadata": {},
     "output_type": "execute_result"
    },
    {
     "data": {
      "image/png": "[encoded data removed]",
      "text/plain": [
       "<Figure size 432x288 with 1 Axes>"
      ]
     },
     "metadata": {
      "needs_background": "light"
     },
     "output_type": "display_data"
    }
   ],
   "source": [
    "plt.errorbar(xch,ych,sych)\n",
    "plt.plot(xch,Diffusion(xch,miChi2.values[0]),'--r')"
   ]
  },
  {
   "cell_type": "code",
   "execution_count": 146,
   "id": "9fe99c6f",
   "metadata": {},
   "outputs": [
    {
     "name": "stdout",
     "output_type": "stream",
     "text": [
      "13.243696223588923 11 0.27769645618872596\n"
     ]
    }
   ],
   "source": [
    "N_NotEmptyBin = np.sum(yExp>0)\n",
    "Ndof_value = N_NotEmptyBin - miChi2.nfit\n",
    "chi2_value = miChi2.fval \n",
    "Prob_value = stats.chi2.sf(chi2_value, Ndof_value) # The chi2 probability given N_DOF degrees of freedom\n",
    "print(chi2_value,Ndof_value,Prob_value)"
   ]
  },
  {
   "cell_type": "markdown",
   "id": "fe5c52e5",
   "metadata": {},
   "source": [
    "# Questions:\n",
    "\n",
    "This exercise is meant to play with the parameters to see when the two methods agree and disagree. Since we want to assign probabilities to our results, it is quite important that probabilities can really be trusted...\n",
    "\n",
    "1) Start by going through the code. Do you understand what pcheat does? Change pcheat and sig_Cheat and investigate how the probabilities come out for both methods.\n",
    "\n",
    "2) Investigate (for instance by plotting) the values of the parameter \"sig\" for both the unbinned likelihood and the Chi Square estimation as a function of Npoints and sig_Cheat. Is there some clear pattern?\n",
    "\n",
    "### Advanced question:\n",
    "\n",
    "3) How does the mean and standard deviation of the KS-probability (i.e. pstat) as a function of Nstep?\n",
    "\n",
    "4) Generate randomly distributed numbers following the PDF directly by using the transformation method (This is one of the examples where it can be done!)."
   ]
  },
  {
   "cell_type": "code",
   "execution_count": null,
   "id": "a4057f22",
   "metadata": {},
   "outputs": [],
   "source": []
  }
 ],
 "metadata": {
  "kernelspec": {
   "display_name": "Python 3 (ipykernel)",
   "language": "python",
   "name": "python3"
  },
  "language_info": {
   "codemirror_mode": {
    "name": "ipython",
    "version": 3
   },
   "file_extension": ".py",
   "mimetype": "text/x-python",
   "name": "python",
   "nbconvert_exporter": "python",
   "pygments_lexer": "ipython3",
   "version": "3.10.1"
  }
 },
 "nbformat": 4,
 "nbformat_minor": 5
}
