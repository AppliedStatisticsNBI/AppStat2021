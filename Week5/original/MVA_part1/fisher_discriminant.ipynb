{
 "cells": [
  {
   "cell_type": "markdown",
   "metadata": {},
   "source": [
    "# Fisher Discriminant - Iris data set\n",
    "\n",
    "Python macro for analysing the famous Anderson-Fisher Iris data set from Gaspe Peninsula. Edgar Anderson took 50 samples of three species (Setosa, Versicolor, and Virginica) of Iris at the Gaspe Peninsula, and measured four distinguishing features on each flower:\n",
    "\n",
    "-    Sepal Length\n",
    "-    Sepal Width\n",
    "-    Petal Length\n",
    "-    Petal Width\n",
    "\n",
    "Using these measurements, Ronald Fisher was able to make a classification scheme, for which he invented the (Fisher) Linear Discriminant.\n",
    "\n",
    "\n",
    "### Authors: \n",
    "- Troels C. Petersen (Niels Bohr Institute)\n",
    "\n",
    "### Date:    \n",
    "- 15-12-2021 (latest update)\n",
    "\n",
    "### References:\n",
    "- Glen Cowan, Statistical Data Analysis, pages 51-57\n",
    "- http://en.wikipedia.org/wiki/Iris_flower_data_set\n",
    "- http://en.wikipedia.org/wiki/Linear_discriminant_analysis\n",
    "\n",
    "***\n"
   ]
  },
  {
   "cell_type": "code",
   "execution_count": null,
   "metadata": {},
   "outputs": [],
   "source": [
    "# First, import the modules you want to use:\n",
    "import numpy as np                                     # Matlab like syntax for linear algebra and functions\n",
    "import matplotlib.pyplot as plt                        # Plots and figures like you know them from Matlab\n",
    "from numpy.linalg import inv"
   ]
  },
  {
   "cell_type": "code",
   "execution_count": null,
   "metadata": {
    "lines_to_next_cell": 2
   },
   "outputs": [],
   "source": [
    "r = np.random             # Random generator\n",
    "r.seed(42)                # Set a random seed (but a fixed one)\n",
    "save_plots = False          # For now, don't save plots (once you trust your code, switch on)"
   ]
  },
  {
   "cell_type": "markdown",
   "metadata": {},
   "source": [
    "## Functions\n"
   ]
  },
  {
   "cell_type": "code",
   "execution_count": null,
   "metadata": {},
   "outputs": [],
   "source": [
    "def get_covariance_offdiag(X, Y):\n",
    "    return np.cov(X, Y, ddof=1)[0, 1]\n",
    "\n",
    "def calc_separation(x, y):\n",
    "    mean_x = np.mean(x)\n",
    "    mean_y = np.mean(y)\n",
    "    \n",
    "    std_x = np.std(x, ddof=1)\n",
    "    std_y = np.std(y, ddof=1)\n",
    "    d = np.abs((mean_x - mean_y)) / np.sqrt(std_x**2 + std_y**2)\n",
    "    \n",
    "    return d"
   ]
  },
  {
   "cell_type": "markdown",
   "metadata": {},
   "source": [
    "## Define parameters:\n",
    "\n",
    "Define path to datafile"
   ]
  },
  {
   "cell_type": "code",
   "execution_count": null,
   "metadata": {},
   "outputs": [],
   "source": [
    "filename = \"DataSet_AndersonFisherIris.txt\""
   ]
  },
  {
   "cell_type": "markdown",
   "metadata": {},
   "source": [
    "Set the variable and species names along with the number of variavles and number of species:"
   ]
  },
  {
   "cell_type": "code",
   "execution_count": null,
   "metadata": {},
   "outputs": [],
   "source": [
    "var_name  = [ \"Sepal Length\", \"Sepal Width\", \"Petal Length\", \"Petal Width\" ]    # Variable name\n",
    "spec_name = [ \"Setosa\"      , \"Versicolor\" , \"Virginica\"                   ]    # Species name\n",
    "\n",
    "nvar  = len(var_name)     # Sepal Length, Sepal Width, Petal Length, Petal Width\n",
    "nspec = len(spec_name)    # Setosa, Versicolor, Virginica"
   ]
  },
  {
   "cell_type": "markdown",
   "metadata": {},
   "source": [
    "Set the range for the histograms to plot and the number of bins:"
   ]
  },
  {
   "cell_type": "code",
   "execution_count": null,
   "metadata": {},
   "outputs": [],
   "source": [
    "xmin = [3.5, 1.7, 0.0, 0.0]   # Range for different variables\n",
    "xmax = [8.5, 4.7, 7.5, 3.0]\n",
    "nbin = [ 25,  30,  25,  30]   # Number of bins for different variables"
   ]
  },
  {
   "cell_type": "markdown",
   "metadata": {},
   "source": [
    "Set the colors and markers to use for each species:"
   ]
  },
  {
   "cell_type": "code",
   "execution_count": null,
   "metadata": {},
   "outputs": [],
   "source": [
    "colors  = ['Red', 'Green', 'Blue']\n",
    "markers = ['o', '^', 's']"
   ]
  },
  {
   "cell_type": "markdown",
   "metadata": {},
   "source": [
    "## Loop over and read data from input\n",
    "\n",
    "Now we open the file and save the data in the variable called `data`: "
   ]
  },
  {
   "cell_type": "code",
   "execution_count": null,
   "metadata": {
    "lines_to_next_cell": 2
   },
   "outputs": [],
   "source": [
    "# Numpy version:\n",
    "data = np.loadtxt(filename)\n",
    "data[:, -1] -= 1            # Subtract one from all the last integers in the data:\n",
    "                            # Last one is an integer width species type: 1,2,3\n",
    "                            # Start counting at 0, to match your lists : 0,1,2"
   ]
  },
  {
   "cell_type": "markdown",
   "metadata": {},
   "source": [
    "To introduce the notation that is very common in Machine Learning, we split the data up into the independent variable (input variables / features / columns) `X` and the dependent variable (output variable) `y`:"
   ]
  },
  {
   "cell_type": "code",
   "execution_count": null,
   "metadata": {},
   "outputs": [],
   "source": [
    "# X is the independent variable / input variables / features / columns\n",
    "X = data[:, :-1]\n",
    "# y is the dependent variable / output variable \n",
    "y = data[:, -1].astype(int)"
   ]
  },
  {
   "cell_type": "markdown",
   "metadata": {},
   "source": [
    "Here the capital `X` refers to the fact that `X` is a matrix (2D-array) and `y` is a vector (1D-array)."
   ]
  },
  {
   "cell_type": "markdown",
   "metadata": {},
   "source": [
    "## Display data:\n",
    "\n",
    "Now we plot the data as histograms for each variable with each species colored according to: <span style=\"color:red\">Setosa</span>, <span style=\"color:green\">Versicolor</span>, and <span style=\"color:blue\">Virginica</span>:"
   ]
  },
  {
   "cell_type": "code",
   "execution_count": null,
   "metadata": {},
   "outputs": [],
   "source": [
    "fig_1D, ax_1D = plt.subplots(nrows=2, ncols=2, figsize=(10,8))\n",
    "ax_1D = ax_1D.flatten()\n",
    "\n",
    "mu = np.zeros((nspec, nvar))\n",
    "std = np.zeros((nspec, nvar))\n",
    "\n",
    "for ivar in range(nvar): # for each variable plot each species' corresponding histogram of that variable\n",
    "    for ispec in range(nspec):\n",
    "        \n",
    "        data_spec = X[y == ispec]  # extract the relevant species\n",
    "        data_spec_var = data_spec[:, ivar]      # extract the relevant variable\n",
    "        \n",
    "        ax_1D[ivar].hist(data_spec_var, nbin[ivar], range=(xmin[ivar], xmax[ivar]), histtype='step', color=colors[ispec], label=spec_name[ispec], lw=2)\n",
    "        \n",
    "        mu[ispec, ivar] = data_spec_var.mean()\n",
    "        std[ispec, ivar] = data_spec_var.std(ddof=1)\n",
    "         \n",
    "    ax_1D[ivar].set(title=var_name[ivar], ylabel='Counts')\n",
    "    ax_1D[ivar].legend()\n",
    "    \n",
    "fig_1D.tight_layout()\n",
    "\n",
    "if save_plots:\n",
    "    fig_1D.savefig('FisherInputHists.pdf', dpi=600)"
   ]
  },
  {
   "cell_type": "markdown",
   "metadata": {},
   "source": [
    "Below we plot the same data as 2D scatter plots:"
   ]
  },
  {
   "cell_type": "code",
   "execution_count": null,
   "metadata": {},
   "outputs": [],
   "source": [
    "# Draw 2D histograms:\n",
    "fig_corr, ax_corr = plt.subplots(nrows=4, ncols=4, figsize=(12, 10))\n",
    "covariances = np.zeros((nvar, nvar, nspec))\n",
    "for ivar in range(nvar):\n",
    "    for jvar in range(nvar):        \n",
    "        ax = ax_corr[ivar, jvar]        \n",
    "        for ispec in range(nspec):        \n",
    "            data_ispec = data[data[:, -1] == ispec]  # extract the relevant species\n",
    "            data_ispec_ivar = data_ispec[:, ivar]\n",
    "            data_ispec_jvar = data_ispec[:, jvar]                \n",
    "            covariances[ivar, jvar, ispec] = get_covariance_offdiag(data_ispec_ivar, data_ispec_jvar)\n",
    "\n",
    "            if ivar == jvar:       # i.e. diagonal\n",
    "                ax.text(0.5, 0.5, var_name[ivar], horizontalalignment='center', verticalalignment='center', transform=ax.transAxes)\n",
    "            else:\n",
    "                ax.scatter(data_ispec_ivar, data_ispec_jvar, marker = markers[ispec], color = colors[ispec])\n",
    "                                \n",
    "fig_corr.tight_layout()\n",
    "\n",
    "if save_plots:\n",
    "    fig_corr.savefig('FisherInputHists_corr.pdf', dpi=600)"
   ]
  },
  {
   "cell_type": "markdown",
   "metadata": {},
   "source": [
    "## Make Fisher discriminant between species Versicolor (1) and Virginica (2): \n",
    "(i.e. not considering Setosa(0) for now).\n",
    "\n",
    "\n",
    "Put the (co-)variances into a matrix, and invert it to get the Fisher coefficients: __NOTE__: Fill this in yourself"
   ]
  },
  {
   "cell_type": "code",
   "execution_count": null,
   "metadata": {},
   "outputs": [],
   "source": [
    "covmat_Vers = np.ones((4,4))        # Covariance matrix for Versicolor, change this yourself!\n",
    "covmat_Virg = np.eye(4,4)         # Covariance matrix for Verginica, change this yourself!"
   ]
  },
  {
   "cell_type": "code",
   "execution_count": null,
   "metadata": {
    "lines_to_next_cell": 2
   },
   "outputs": [],
   "source": [
    "# The calculations requires the inverted COMBINED covariance matrices:\n",
    "print(\"Combined covariance matrix:\")\n",
    "covmat_comb = covmat_Vers + covmat_Virg\n",
    "print(covmat_comb)\n",
    "print(\"\")\n",
    "\n",
    "print(\"Inverted combined covariance matrix:\")\n",
    "covmat_comb_inv = inv(covmat_comb)\n",
    "print(covmat_comb_inv)\n",
    "print(\"\")"
   ]
  },
  {
   "cell_type": "markdown",
   "metadata": {},
   "source": [
    "## Calculate Fisher coefficients:\n",
    "\n",
    "Calculate the four Fisher coefficients: Do this yourself..."
   ]
  },
  {
   "cell_type": "code",
   "execution_count": null,
   "metadata": {},
   "outputs": [],
   "source": [
    "wf = np.array([0, 1, 2, 3])\n",
    "print(wf)"
   ]
  },
  {
   "cell_type": "markdown",
   "metadata": {},
   "source": [
    "Loop over the data (species Versicolor (1) and Virginica (2)), calculate their Fisher discriminant value, and see how well the separation works:"
   ]
  },
  {
   "cell_type": "code",
   "execution_count": null,
   "metadata": {},
   "outputs": [],
   "source": [
    "\n",
    "\n",
    "\n",
    "\n",
    "\n",
    "# fill in yourself\n",
    "\n",
    "\n",
    "\n",
    "\n"
   ]
  },
  {
   "cell_type": "code",
   "execution_count": null,
   "metadata": {
    "lines_to_next_cell": 2
   },
   "outputs": [],
   "source": [
    "print(f\"The separation between the samples is: {1234:5.2f} <-- fill this in yourself\") "
   ]
  },
  {
   "cell_type": "markdown",
   "metadata": {},
   "source": [
    "# Questions\n",
    "\n",
    "As always, make sure that you know what the code is doing so far, and what the aim of the exercise is (i.e. which problem to solve, and how). Then start to expand on it.\n",
    "\n",
    "1. Look at the distributions of the four discriminating variables for the two species Versicolor (1) and Virginica (2), and see how well you can separate them by eye. It seems reasonably possible, but certainly not perfect...\n",
    "\n",
    "2. Calculate the mean, widths (std) and covariance of each discriminating variable (pair of variables for covariance) for each species, and put these into the matrices defined.\n",
    "\n",
    "3. From the inverted summed matrix, calculate the four Fisher coefficients, and given these, calculate the Fisher discriminant for the two species in question.\n",
    "\n",
    "4. What separation did you get, and is it notably better than what you obtain by eye/simple cuts? Possibly make two ROC curves to quantify this."
   ]
  }
 ],
 "metadata": {
  "executable": "/usr/bin/env python",
  "kernelspec": {
   "display_name": "Python 3",
   "language": "python",
   "name": "python3"
  },
  "language_info": {
   "codemirror_mode": {
    "name": "ipython",
    "version": 3
   },
   "file_extension": ".py",
   "mimetype": "text/x-python",
   "name": "python",
   "nbconvert_exporter": "python",
   "pygments_lexer": "ipython3",
   "version": "3.7.6"
  },
  "main_language": "python"
 },
 "nbformat": 4,
 "nbformat_minor": 2
}
