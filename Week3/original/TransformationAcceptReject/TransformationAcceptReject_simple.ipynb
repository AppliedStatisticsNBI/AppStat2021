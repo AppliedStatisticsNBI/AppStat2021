{
 "cells": [
  {
   "cell_type": "markdown",
   "metadata": {},
   "source": [
    "# The Transformation and Accept/Reject (aka. Von Neumann) methods\n",
    "\n",
    "Python notebook for illustrating how to generate random numbers following a specific PDF using uniformly distributed random numbers. Both the Accept-Reject (Von Neumann) and transformation methods are used.\n",
    "\n",
    "### References:\n",
    "- G. Cowan: Chapter 3\n",
    "- P. R. Bevington: page 81-84\n",
    "- __[40. Monte Carlo Techniques PDG](http://pdg.lbl.gov/2020/reviews/rpp2020-rev-monte-carlo-techniques.pdf)__\n",
    "\n",
    "### Authors: \n",
    "- Troels C. Petersen (Niels Bohr Institute)\n",
    "\n",
    "### Date:    \n",
    "- 29-11-2021 (latest update)\n",
    "\n",
    "***"
   ]
  },
  {
   "cell_type": "code",
   "execution_count": null,
   "metadata": {},
   "outputs": [],
   "source": [
    "import numpy as np                                     # Matlab like syntax for linear algebra and functions\n",
    "import matplotlib.pyplot as plt                        # Plots and figures like you know them from Matlab\n",
    "import seaborn as sns                                  # Make the plots nicer to look at\n",
    "from iminuit import Minuit                             # The actual fitting tool, better than scipy's\n",
    "import sys                                             # Modules to see files and folders in directories\n",
    "from scipy import stats"
   ]
  },
  {
   "cell_type": "markdown",
   "metadata": {},
   "source": [
    "Load external functions:"
   ]
  },
  {
   "cell_type": "code",
   "execution_count": null,
   "metadata": {},
   "outputs": [],
   "source": [
    "sys.path.append('../../../External_Functions')\n",
    "from ExternalFunctions import Chi2Regression, BinnedLH, UnbinnedLH\n",
    "from ExternalFunctions import nice_string_output, add_text_to_ax    # Useful functions to print fit results on figure\n",
    "\n",
    "plt.rcParams['font.size'] = 18     # Set some basic plotting parameters"
   ]
  },
  {
   "cell_type": "markdown",
   "metadata": {},
   "source": [
    "set the parameters of the program:"
   ]
  },
  {
   "cell_type": "code",
   "execution_count": null,
   "metadata": {},
   "outputs": [],
   "source": [
    "r = np.random\n",
    "r.seed(42)\n",
    "\n",
    "save_plots = False   \n",
    "N_points = 10000      # Number of random points to be produced!\n",
    "\n",
    "xmin = 0.0\n",
    "xmax = 1.0\n",
    "N_bins = 100\n",
    "\n",
    "# Define f(x) = 2x, for x in [0,1]\n",
    "def fx_2x(x) :\n",
    "    # Normalization is N_points * binwidth:\n",
    "    k = (xmax - xmin) / N_bins\n",
    "    N = N_points * k\n",
    "    return N * 2*x"
   ]
  },
  {
   "cell_type": "markdown",
   "metadata": {},
   "source": [
    "### Problem: Produce - using the TRANSFORMATION METHOD - random points following $f(x) = 2x, x \\in [0, 1]$.\n",
    "\n",
    "To produce random numbers according to $f(x)$ we use the transformation method:\n",
    "\n",
    "$F(x) = x^2$ and then $F^{-1}(r) = \\sqrt{r}$, where $r$ is uniform numbers in $[0,1]$\n",
    "\n",
    "**NOTE: Remember that you have to think about limits!**"
   ]
  },
  {
   "cell_type": "code",
   "execution_count": null,
   "metadata": {},
   "outputs": [],
   "source": [
    "x_transformation = np.sqrt(r.uniform(size=N_points))"
   ]
  },
  {
   "cell_type": "markdown",
   "metadata": {},
   "source": [
    "And to make sure that we have computed the points correctly, we plot a histogram of the data:"
   ]
  },
  {
   "cell_type": "code",
   "execution_count": null,
   "metadata": {},
   "outputs": [],
   "source": [
    "fig, ax = plt.subplots(figsize=(12, 6))\n",
    "ax.hist(x_transformation, bins=N_bins, range=(xmin, xmax), histtype='step', label='histogram' )\n",
    "ax.set(xlabel=\"x\", ylabel=\"Frequency\", xlim=(xmin-0.1, xmax+0.1));"
   ]
  },
  {
   "cell_type": "markdown",
   "metadata": {},
   "source": [
    "And plot $f(x)$ on top of the figure (notice, no fit here!) along with the legend, figure text and finally saves the figure:"
   ]
  },
  {
   "cell_type": "code",
   "execution_count": null,
   "metadata": {},
   "outputs": [],
   "source": [
    "# Plot f(x)\n",
    "x_axis1 = np.linspace(xmin, xmax, 1000)\n",
    "y_axis1 = fx_2x(x_axis1)\n",
    "ax.plot(x_axis1, y_axis1, 'r-', label='function (not fitted)')\n",
    "\n",
    "# Define figure text\n",
    "d = {'Entries': len(x_transformation),\n",
    "     'Mean': x_transformation.mean(),\n",
    "     'Std': x_transformation.std(ddof=1),\n",
    "    }\n",
    "\n",
    "# Plot figure text\n",
    "text = nice_string_output(d, extra_spacing=2, decimals=3)\n",
    "add_text_to_ax(0.05, 0.75, text, ax, fontsize=14)\n",
    "\n",
    "# Add legend\n",
    "ax.legend(loc='best')\n",
    "fig.tight_layout()\n",
    "\n",
    "# Save figure\n",
    "if save_plots: \n",
    "    fig.savefig(\"Hist_2x_TransformationMethod.pdf\", dpi=600)\n",
    "\n",
    "# Show the figure\n",
    "fig"
   ]
  },
  {
   "cell_type": "markdown",
   "metadata": {},
   "source": [
    "And we see how we have succesfully generated random numbers according to $f(x)$ via the transformation method. Notice that if this method, if applicable, is 100% effective! "
   ]
  },
  {
   "cell_type": "markdown",
   "metadata": {},
   "source": [
    "### Problem: Produce - using the ACCEPT/REJECT METHOD - random points following $f(x) = 2x, x \\in [0, 1]$.\n",
    "\n",
    "To produce random numbers according to $f(x)$ we now use the accept/reject method.\n",
    "Since this is bounded by $[0,1] \\times [0,2]$, this is the range we generate numbers in.\n",
    "\n",
    "To simulate the data we repeat the process, until the wanted number of points have been generated. A bit annoyingly, there is no do-while loop in Python, which explains the \"funny\" while construction below."
   ]
  },
  {
   "cell_type": "code",
   "execution_count": null,
   "metadata": {},
   "outputs": [],
   "source": [
    "N_try = 0\n",
    "ymin = 0.0      # Minimum value the function will take!\n",
    "ymax = 2.0      # Maximum value the function will take!\n",
    "x_accepted = np.zeros(N_points)\n",
    "\n",
    "for i in range(N_points):\n",
    "    \n",
    "    while True:\n",
    "        \n",
    "        # Count the number of tries, to get efficiency/integral\n",
    "        N_try += 1                    \n",
    "        \n",
    "        # Range that f(x) is defined/wanted in:\n",
    "        x_test = r.uniform(xmin, xmax)  \n",
    "        \n",
    "        # Upper bound for function values:\n",
    "        y_test = r.uniform(ymin, ymax)\n",
    "        \n",
    "        if (y_test < 2 * x_test):\n",
    "            break\n",
    "            \n",
    "    x_accepted[i] = x_test"
   ]
  },
  {
   "cell_type": "markdown",
   "metadata": {},
   "source": [
    "The Accept/Reject method is not $100%$ perfective, meaning that to generate $N$ random points according to $f(x)$ we have to loop $M > N$ times. Here the efficiency is defined as $\\epsilon = N / M = $ `eff`:"
   ]
  },
  {
   "cell_type": "code",
   "execution_count": null,
   "metadata": {},
   "outputs": [],
   "source": [
    "# Efficiency\n",
    "eff = N_points / N_try                        \n",
    "\n",
    "# Error on efficiency (binomial!)\n",
    "eff_error = np.sqrt(eff * (1-eff) / N_try) \n",
    "\n",
    "# Integral\n",
    "integral =  eff * (xmax-xmin) * (ymax-ymin)\n",
    "\n",
    "# Error on integral\n",
    "eintegral = eff_error * (xmax-xmin) * (ymax-ymin)  \n",
    "\n",
    "print(f\"\\nIntegral of f(x) = 2x, x in [0, 1] is: \\t {integral:7.4f} +- {eintegral:6.4f}\")\n",
    "print(f\"The efficiency of the Accept/Reject method used here is: \\t {eff:.2%} +/- {eff_error:.2%}\")\n",
    "# We normalized the function ahead of time, so we should hope to get a result consistent with unity!"
   ]
  },
  {
   "cell_type": "markdown",
   "metadata": {},
   "source": [
    "This allowed us to estimate the integral of $f(x)$. It was not hard, but it could have been much harder, and so the method allows one to estimate complicated integrals. As it turns out, this generalises to multiple dimensions, where other methods have a hard time."
   ]
  },
  {
   "cell_type": "code",
   "execution_count": null,
   "metadata": {},
   "outputs": [],
   "source": [
    "fig2, ax2 = plt.subplots(figsize=(12, 6))\n",
    "ax2.hist(x_accepted, bins=N_bins, range=(xmin, xmax), histtype='step', label='histogram' )\n",
    "ax2.set(xlabel=\"x (exponentially distributed)\", ylabel=\"Frequency\", xlim=(xmin-0.1, xmax+0.1));"
   ]
  },
  {
   "cell_type": "markdown",
   "metadata": {},
   "source": [
    "And plot $g(x)$ on top of the figure (notice, no fit here!) along with the legend, figure text and finally saves the figure:"
   ]
  },
  {
   "cell_type": "code",
   "execution_count": null,
   "metadata": {},
   "outputs": [],
   "source": [
    "# Plot f(x)\n",
    "x_axis2 = np.linspace(xmin, xmax, 1000)\n",
    "y_axis2 = fx_2x(x_axis2)\n",
    "ax2.plot(x_axis2, y_axis2, 'r-', label='function (not fitted)')\n",
    "\n",
    "# Define the figure text\n",
    "d2 = {'Entries': len(x_accepted),\n",
    "      'Mean': x_accepted.mean(),\n",
    "      'Std': x_accepted.std(ddof=1),\n",
    "    }\n",
    "\n",
    "# Add figure text\n",
    "text2 = nice_string_output(d2, extra_spacing=2, decimals=3)\n",
    "add_text_to_ax(0.02, 0.75, text2, ax2, fontsize=14)\n",
    "\n",
    "# Add legend\n",
    "ax2.legend(loc='best')\n",
    "fig2.tight_layout()\n",
    "\n",
    "# Save figure\n",
    "if save_plots: \n",
    "    fig2.savefig(\"Hist_2x_AcceptRejectMethod.pdf\", dpi=600)\n",
    "    \n",
    "# Show the figure\n",
    "fig2"
   ]
  },
  {
   "cell_type": "markdown",
   "metadata": {},
   "source": [
    "This exercise was simply to illustrate how to use the two methods. Next, you should try to apply the two methods yourself on slightly more complicated functions, which is what the following two exercises is about:\n",
    "- TransformationAcceptReject_pol3.ipynb: Try the two methods on a third degree polynomial.\n",
    "- TransformationAcceptReject_general.ipynb: Try the two methods on three different problems.\n",
    "\n",
    "# Questions\n",
    "1. How would you test, if the two histograms with numbers from transformation and accept/reject methods are statistically the same? There are many methods, but you should at least be able to think of one way."
   ]
  }
 ],
 "metadata": {
  "executable": "/usr/bin/env python",
  "kernelspec": {
   "display_name": "Python 3",
   "language": "python",
   "name": "python3"
  },
  "language_info": {
   "codemirror_mode": {
    "name": "ipython",
    "version": 3
   },
   "file_extension": ".py",
   "mimetype": "text/x-python",
   "name": "python",
   "nbconvert_exporter": "python",
   "pygments_lexer": "ipython3",
   "version": "3.7.6"
  },
  "main_language": "python"
 },
 "nbformat": 4,
 "nbformat_minor": 2
}
