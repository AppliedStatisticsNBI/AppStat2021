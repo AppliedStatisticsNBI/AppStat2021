{
 "cells": [
  {
   "cell_type": "markdown",
   "metadata": {},
   "source": [
    "# The Transformation and Accept/Reject (aka. Von Neumann) methods \n",
    "Python notebook with exercise on how to generate random numbers following a specific PDF using uniformly distributed random numbers, in this case a third degree polynomial: $f(x) = x^3$, in the interval $[0, C]$ where $C$ is a number that ensures that the function if properly normalized.\n",
    "\n",
    "Both the Accept-Reject (Von Neumann) and transformation method should be considered for the problem:\n",
    "- Transformation method (if function can be integrated and then inverted).\n",
    "- Accept-Reject (or Hit & Miss) method (by Ulam Stanislav and John Von Neumann).\n",
    "\n",
    "### References:\n",
    "- G. Cowan: Chapter 3\n",
    "- P. R. Bevington: page 81-84\n",
    "- __[40. Monte Carlo Techniques PDG](http://pdg.lbl.gov/2020/reviews/rpp2020-rev-monte-carlo-techniques.pdf)__\n",
    "\n",
    "### Authors: \n",
    "- Troels C. Petersen (Niels Bohr Institute)\n",
    "\n",
    "### Date:    \n",
    "- 29-11-2021 (latest update)\n",
    "\n",
    "***"
   ]
  },
  {
   "cell_type": "code",
   "execution_count": null,
   "metadata": {},
   "outputs": [],
   "source": [
    "import numpy as np                                     # Matlab like syntax for linear algebra and functions\n",
    "import matplotlib.pyplot as plt                        # Plots and figures like you know them from Matlab\n",
    "import seaborn as sns                                  # Make the plots nicer to look at\n",
    "from iminuit import Minuit                             # The actual fitting tool, better than scipy's\n",
    "import sys                                             # Modules to see files and folders in directories\n",
    "from scipy import stats"
   ]
  },
  {
   "cell_type": "markdown",
   "metadata": {},
   "source": [
    "Load external functions:"
   ]
  },
  {
   "cell_type": "code",
   "execution_count": null,
   "metadata": {},
   "outputs": [],
   "source": [
    "sys.path.append('../../../External_Functions')\n",
    "from ExternalFunctions import Chi2Regression, BinnedLH, UnbinnedLH\n",
    "from ExternalFunctions import nice_string_output, add_text_to_ax    # Useful functions to print fit results on figure\n",
    "\n",
    "plt.rcParams['font.size'] = 18     # Set some basic plotting parameters"
   ]
  },
  {
   "cell_type": "markdown",
   "metadata": {},
   "source": [
    "set the parameters of the program:"
   ]
  },
  {
   "cell_type": "code",
   "execution_count": null,
   "metadata": {},
   "outputs": [],
   "source": [
    "r = np.random\n",
    "r.seed(42)\n",
    "\n",
    "save_plots = False  \n",
    "N = 10000      # Number of random points used \n",
    "\n",
    "xmin = 0\n",
    "xmax = 1.0            # Find out yourself what a good interval is.\n",
    "N_bins = 100          # Find out yourself what a good number of bins is.\n",
    "\n",
    "# f(x):\n",
    "def fx_x3(x) :\n",
    "    return x**3"
   ]
  },
  {
   "cell_type": "code",
   "execution_count": null,
   "metadata": {},
   "outputs": [],
   "source": [
    "# Transformation method:\n",
    "x_transformation = (4*r.uniform(size=N))**0.25"
   ]
  },
  {
   "cell_type": "code",
   "execution_count": null,
   "metadata": {},
   "outputs": [],
   "source": [
    "# Accept/Reject method:\n",
    "x_accepted = np.zeros(N)\n",
    "xmin, xmax, ymax = 0.0, np.sqrt(2.0), np.sqrt(2.0)**3\n",
    "Ntry = 0\n",
    "\n",
    "for i in range(N):\n",
    "    while True:\n",
    "        Ntry += 1                    # Count the number of tries, to get efficiency/integral\n",
    "        x = r.uniform(xmin, xmax)    # Range that f(x) is defined/wanted in\n",
    "        y = r.uniform(0, ymax)       # Upper bound of the function\n",
    "        if (y < fx_x3(x)) :\n",
    "            break\n",
    "    x_accepted[i] = x"
   ]
  },
  {
   "cell_type": "markdown",
   "metadata": {},
   "source": [
    "The Accept/Reject method is not $100\\%$ efficient, meaning that to generate $N$ random points according to $f(x)$ we have to loop $M > N$ times. The efficiency is then defined as $\\epsilon = N / M = $ `eff`:"
   ]
  },
  {
   "cell_type": "code",
   "execution_count": null,
   "metadata": {},
   "outputs": [],
   "source": [
    "# Calculation of efficiency:\n",
    "eff       = N / Ntry                        \n",
    "eff_error = np.sqrt(eff * (1-eff) / Ntry) \n",
    "\n",
    "# Integral of function over range:\n",
    "integral       = eff       * (xmax-xmin) * ymax \n",
    "integral_error = eff_error * (xmax-xmin) * ymax  \n",
    "\n",
    "print(f\"\\n\\nIntegral of f(x) = x^3, x in [0, sqrt(2)] is:              {integral:5.4f} +- {integral_error:5.4f}\")\n",
    "print(f\"The efficiency of the Accept/Reject method used here is:   {eff:5.2%} +- {eff_error:5.2%}\")\n",
    "# The integral can be compared to the known value, namely unit, as it was normalised!"
   ]
  },
  {
   "cell_type": "code",
   "execution_count": null,
   "metadata": {},
   "outputs": [],
   "source": [
    "Nbins = 141\n",
    "xmin, xmax = 0.0, np.sqrt(2)\n",
    "binwidth = (xmax - xmin) / Nbins\n",
    "\n",
    "fig, ax = plt.subplots(figsize=(15, 8))\n",
    "ax.hist(x_transformation, bins=Nbins, range=(xmin, xmax), histtype='step', label='x (transformation)' )\n",
    "ax.hist(x_accepted, bins=Nbins, range=(xmin, xmax), histtype='step', label='x (accept/reject)' )\n",
    "ax.set(xlabel=\"x (generated)\", ylabel=\"Frequency / 0.01\", xlim=(xmin, 1.5));   # Note upper limit set a bit above!"
   ]
  },
  {
   "cell_type": "markdown",
   "metadata": {},
   "source": [
    "### Fitting the distribution (cross check)\n",
    "\n",
    "Note that one could also simply draw the expected distribution, and - if there were only few low statistics bins - calculate the ChiSquare to check the match. Alternatively, one could do a Kolmogorov-Smirnoff (KS) test between the function and the data."
   ]
  },
  {
   "cell_type": "code",
   "execution_count": null,
   "metadata": {},
   "outputs": [],
   "source": [
    "# Note that this polynomial is NOT normalised!\n",
    "# The \"N\" put outside is simply to minimize the (significant) correlations between the fit parameters.\n",
    "def pol3_pdf(x, N, c0, c1, c2, c3):\n",
    "    return N * (c0 + c1*x + c2*x*x + c3*x*x*x)"
   ]
  },
  {
   "cell_type": "code",
   "execution_count": null,
   "metadata": {},
   "outputs": [],
   "source": [
    "fit_object = UnbinnedLH(pol3_pdf, x_transformation, extended=True)\n",
    "minuit = Minuit(fit_object, N=1000, c0=0.0, c1=0.0, c2=0.0, c3=1.0)\n",
    "\n",
    "# You may want to choose to fix c0, c1, and c2 to 0, as these were 0, when generating the data.\n",
    "# This should \"help\" the fit a bit.\n",
    "# minuit.fixed[\"c0\"] = True\n",
    "# minuit.fixed[\"c1\"] = True\n",
    "# minuit.fixed[\"c2\"] = True\n",
    "\n",
    "minuit.errordef = 0.5\n",
    "minuit.migrad()"
   ]
  },
  {
   "cell_type": "code",
   "execution_count": null,
   "metadata": {},
   "outputs": [],
   "source": [
    "if (not minuit.fmin.is_valid) :                                   # Check if the fit converged!\n",
    "    print(\"  WARNING: The unbinned likelihood fit DID NOT converge!!!\")\n",
    "\n",
    "minuit_output = [minuit.fmin, minuit.params]       # Save the output parameters in case needed\n",
    "for name in minuit.parameters:\n",
    "    print(\"  Unbinned LLH Fit result: {0} = {1:.5f} +/- {2:.5f}\".format(name, minuit.values[name], minuit.errors[name]))"
   ]
  },
  {
   "cell_type": "code",
   "execution_count": null,
   "metadata": {},
   "outputs": [],
   "source": [
    "# fig2, ax2 = plt.subplots(figsize=(15, 6))\n",
    "y, bin_edges = np.histogram(x_transformation, bins=Nbins, range=(xmin, xmax))\n",
    "x = 0.5*(bin_edges[1:] + bin_edges[:-1])\n",
    "sy = np.sqrt(y)      # This is the standard for histograms - bin entries are Poisson distributed!\n",
    "hist_data = ax.errorbar(x, y, sy, fmt='.', linewidth=2, label=\"Data\")\n",
    "ax.set(xlabel=\"x values (generated)\", ylabel = \"Frequency / 0.01\", title = \"Distribution of x values\")\n",
    "\n",
    "# Plot fit result on top of histograms:\n",
    "x_ulfit = np.linspace(xmin, xmax, 1000)                                    # Create the x-axis for the plot of the fitted function\n",
    "y_ulfit = binwidth * pol3_pdf(x_ulfit, *minuit.values[:])\n",
    "ax.plot(x_ulfit, y_ulfit, '--', color='black', linewidth=2, label='Fit (unbinned LLH)')\n",
    "ax.legend()\n",
    "\n",
    "if save_plots: \n",
    "    fig.savefig(\"DistXgenerated.pdf\")\n",
    "fig"
   ]
  },
  {
   "cell_type": "markdown",
   "metadata": {},
   "source": [
    "### Now change the interval from [0, C] to [1, C]\n",
    "\n",
    "The problem essentially remains the same, but one has to think a bit more carefully about the limits."
   ]
  },
  {
   "cell_type": "code",
   "execution_count": null,
   "metadata": {},
   "outputs": [],
   "source": [
    "# Transformation method:\n",
    "x_transformation2 = (4*r.uniform(size=N) + 1)**0.25\n",
    "\n",
    "# Accept/Reject method:\n",
    "x_accepted2 = np.zeros(N)\n",
    "xmin2, xmax2, ymax2 = 1.0, (5.0)**(1/4), ((5.0)**(1/4))**3    # New boundaries for [1,C]\n",
    "Ntry = 0\n",
    "\n",
    "for i in range(N):\n",
    "    while True:\n",
    "        Ntry += 1                      # Count the number of tries, to get efficiency/integral\n",
    "        x = r.uniform(xmin2, xmax2)    # Range that f(x) is defined/wanted in\n",
    "        y = r.uniform(0, ymax2)        # Upper bound of the function\n",
    "        if (y < fx_x3(x)) :\n",
    "            break\n",
    "    x_accepted2[i] = x\n",
    "    \n",
    "# Plot\n",
    "xmin, xmax = 0.0, 1.6\n",
    "binwidth = (xmax - xmin) / Nbins\n",
    "\n",
    "xrange = np.linspace(xmin, xmax, 1000)  \n",
    "yrange = N * binwidth * fx_x3(xrange)\n",
    "\n",
    "# Note: Here we don't fit, but simply plot x^3 on top of the data.\n",
    "fig, ax = plt.subplots(figsize=(15, 8))\n",
    "ax.hist(x_transformation2, bins=Nbins, range=(xmin, xmax), histtype='step', label='x (transformation)' )\n",
    "ax.hist(x_accepted2, bins=Nbins, range=(xmin, xmax), histtype='step', label='x (accept/reject)' )\n",
    "ax.set(xlabel=\"x (generated)\", ylabel=\"Frequency / 0.01\", xlim=(xmin, 1.7));   # Note upper limit set a bit above!\n",
    "ax.legend()\n",
    "\n",
    "ax.plot(xrange, yrange)"
   ]
  },
  {
   "cell_type": "markdown",
   "metadata": {},
   "source": [
    "## Problem: \n",
    "\n",
    "1) Calculate $C$ such that f(x) is normalised [Analytical problem].\n",
    "\n",
    "_Example solution 1_: For $f(x)$ to be normalised, it has to fulfill: $1 = \\int_0^C x^3 dx = [x^4 / 4]_0^C = x^4 / 4 ~~\\Longrightarrow~~ C = \\sqrt[\\leftroot{-2}\\uproot{2}4]{4} = \\sqrt{2}$.\n",
    "\n",
    "\n",
    "2) Calculate the relevant integral and inverted function for using the transformation method. Check that the limits actually makes sense [Analytical problem].\n",
    "\n",
    "_Example solution 2_: The transformation integral (see the slides) is as follows:\n",
    "  $$F(x) = \\int_{-\\infty}^x f(x') dx',$$\n",
    "which in this case yields:\n",
    "  $$F(x) = \\int_{-\\infty}^x x'^3 dx' = \\int_0^x x'^3 dx' = [1/4 x'^4]_0^x = 1/4 x^4.$$\n",
    "The inverse function is:\n",
    "  $$y = F(x) = 1/4 x^4 ~~\\Longrightarrow~~ x = F(y) = \\sqrt[\\leftroot{-2}\\uproot{2}4]{4y}.$$\n",
    "Generating numbers $r$ in the range $r \\in [0,1]$ and inserting these into $F^{-1}(r)$ will yield values in the range $x \\in [0,\\sqrt{2}]$, just as required.\n",
    "\n",
    "\n",
    "3) Produce random points following $f(x) = x^3$, in the interval $[0, C]$ using both the Transformation and the Accept/Reject method.\n",
    "\n",
    "_Example solution 3_: Done above. Note how simply/elegantly the transformation method can be put.\n",
    "\n",
    "\n",
    "4) Fit your data with a third degree polynomial, and check that the coefficients correspond to what you would expect.\n",
    "\n",
    "_Example solution 4_: The fit is performed above. Since there are many bins with little statistics, the unbinned likelihood fit is chosen. I did not write a normalised pol3 function, which makes the evaluation of the fit a lot harder. However, c0, c1, and c2 are all (borderline) consistent with 0, while c3 is certainly not, which is what one should expect.\n",
    "\n",
    "5) Now try to change the interval from [0,C] to [1,C], and see how the limits change.\n",
    "\n",
    "_Example solution 5_: In order for the function $f(x) = x^3$ to be normalized on the invertal [1, C], the value of C should be $\\sqrt[4]{5}$. So for the Accept/Reject method, we sample random points between $x_{min} = 1$ and $x_{max} = \\sqrt[4]{5}$. \n",
    "\n",
    "For the transformation method, the new boundaries of the integral are:\n",
    "$$F(x) = \\int_{1}^x x'^3 dx' = [\\tfrac{1}{4} x'^4]_1^x = \\tfrac{1}{4} x^4 - \\tfrac{1}{4}. $$\n",
    "Inverting this expression, we obtain\n",
    "  $$y = F(x) = \\tfrac{1}{4} x^4 - \\tfrac{1}{4} ~~\\Longrightarrow~~ x = F(y) = \\sqrt[\\leftroot{-2}\\uproot{2}4]{4y + 1}.$$"
   ]
  },
  {
   "cell_type": "code",
   "execution_count": null,
   "metadata": {},
   "outputs": [],
   "source": []
  }
 ],
 "metadata": {
  "executable": "/usr/bin/env python",
  "kernelspec": {
   "display_name": "Python 3",
   "language": "python",
   "name": "python3"
  },
  "language_info": {
   "codemirror_mode": {
    "name": "ipython",
    "version": 3
   },
   "file_extension": ".py",
   "mimetype": "text/x-python",
   "name": "python",
   "nbconvert_exporter": "python",
   "pygments_lexer": "ipython3",
   "version": "3.7.6"
  },
  "main_language": "python"
 },
 "nbformat": 4,
 "nbformat_minor": 2
}
